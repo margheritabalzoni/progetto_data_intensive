{
 "cells": [
  {
   "cell_type": "markdown",
   "metadata": {},
   "source": [
    "# Predizone del prezzo dei voli da Marzo a Giugno\n",
    "\n",
    "**Progetto di Programmazione di Applicazioni Data Intensive**  \n",
    "Laurea in Ingegneria e Scienze Informatiche  \n",
    "DISI - Università di Bologna, Cesena\n",
    "\n",
    "Balzoni Margherita  \n",
    "margherita.balzoni@studio.unibo.it"
   ]
  },
  {
   "cell_type": "markdown",
   "metadata": {},
   "source": [
    "## Caricamento Librerie\n",
    "\n",
    "Caricamento delle librerie necessarie per effettuare le operazioni sui dati.\n",
    "\n",
    "- **NumPy** per creare e operare su array a N dimensioni\n",
    "- **pandas** per caricare e manipolare dati tabulati\n",
    "- **matplotlib** per creare grafici\n"
   ]
  },
  {
   "cell_type": "code",
   "execution_count": 3002,
   "metadata": {},
   "outputs": [],
   "source": [
    "import numpy as np \n",
    "import pandas as pd\n",
    "import matplotlib.pyplot as plt"
   ]
  },
  {
   "cell_type": "markdown",
   "metadata": {},
   "source": [
    "## Descrizione del problema"
   ]
  },
  {
   "cell_type": "markdown",
   "metadata": {},
   "source": [
    "Negli ultimi anni, il settore dei voli aerei ha visto un aumento significativo della domanda, con un numero crescente di passeggeri che viaggiano per motivi di lavoro, turismo e altre necessità personali. Con l'incremento del traffico aereo, prevedere i prezzi dei voli è diventato un'area di interesse cruciale per le compagnie aeree, gli agenti di viaggio e i consumatori, poiché i prezzi dei biglietti possono variare notevolmente a seconda di diversi fattori.\n",
    "\n",
    "In questo progetto, l'obiettivo è sviluppare un modello di regressione in grado di prevedere il prezzo dei voli per una determinata tratta durante il periodo primaverile. Questo implica che il modello di previsione del prezzo dei biglietti aerei sarà specifico per questo intervallo temporale e non sarà generalizzabile ai voli prenotati in altri mesi."
   ]
  },
  {
   "cell_type": "markdown",
   "metadata": {},
   "source": [
    "## Caricamento dei dati\n",
    "\n"
   ]
  },
  {
   "cell_type": "markdown",
   "metadata": {},
   "source": [
    "Il seguente dataset contiene informazioni dettagliate su 10683 voli aerei tra Marzo e Giugno 2019."
   ]
  },
  {
   "cell_type": "code",
   "execution_count": 3003,
   "metadata": {},
   "outputs": [],
   "source": [
    "#modulo che fornisce le funzioni per la manipolazione dei percorsi dei file\n",
    "import os.path\n",
    "\n",
    "file = \"flight_data.csv\"\n",
    "if not os.path.exists(file):\n",
    "    print(\"Missing dataset, retrieve it from kaggle\")\n",
    "\n",
    "dataset= pd.read_csv(file, index_col=0)\n"
   ]
  },
  {
   "cell_type": "markdown",
   "metadata": {},
   "source": [
    "## Significato delle Colonne\n",
    "\n",
    "- **Airline:**  Nome della compagia aerea.\n",
    "- **Date_of_Journey:** Indica la data di partenza del volo.\n",
    "- **Source:** Città di partenza.\n",
    "- **Destination:** Città di destinazione.\n",
    "- **Route:** Lista degli aeroporti in cui verrà fatto scalo durante il viaggio \n",
    "- **Total_Stops:** Numero di scali previsti.\n",
    "- **Dep_Time:** Orario di partenza del volo\n",
    "- **Arrival_Time:** Orario di arrivo previsto\n",
    "- **Duration:** Durata complessiva del volo\n",
    "- **Additional_Info:** Informazioni aggiuntive riguardo al volo\n",
    "- **Price:** Prezzo del biglietto\n",
    "\n"
   ]
  },
  {
   "cell_type": "code",
   "execution_count": 3004,
   "metadata": {},
   "outputs": [
    {
     "data": {
      "text/html": [
       "<div>\n",
       "<style scoped>\n",
       "    .dataframe tbody tr th:only-of-type {\n",
       "        vertical-align: middle;\n",
       "    }\n",
       "\n",
       "    .dataframe tbody tr th {\n",
       "        vertical-align: top;\n",
       "    }\n",
       "\n",
       "    .dataframe thead th {\n",
       "        text-align: right;\n",
       "    }\n",
       "</style>\n",
       "<table border=\"1\" class=\"dataframe\">\n",
       "  <thead>\n",
       "    <tr style=\"text-align: right;\">\n",
       "      <th></th>\n",
       "      <th>Date_of_Journey</th>\n",
       "      <th>Source</th>\n",
       "      <th>Destination</th>\n",
       "      <th>Route</th>\n",
       "      <th>Dep_Time</th>\n",
       "      <th>Arrival_Time</th>\n",
       "      <th>Duration</th>\n",
       "      <th>Total_Stops</th>\n",
       "      <th>Additional_Info</th>\n",
       "      <th>Price</th>\n",
       "    </tr>\n",
       "    <tr>\n",
       "      <th>Airline</th>\n",
       "      <th></th>\n",
       "      <th></th>\n",
       "      <th></th>\n",
       "      <th></th>\n",
       "      <th></th>\n",
       "      <th></th>\n",
       "      <th></th>\n",
       "      <th></th>\n",
       "      <th></th>\n",
       "      <th></th>\n",
       "    </tr>\n",
       "  </thead>\n",
       "  <tbody>\n",
       "    <tr>\n",
       "      <th>IndiGo</th>\n",
       "      <td>24/03/2019</td>\n",
       "      <td>Banglore</td>\n",
       "      <td>New Delhi</td>\n",
       "      <td>BLR → DEL</td>\n",
       "      <td>22:20</td>\n",
       "      <td>01:10 22 Mar</td>\n",
       "      <td>2h 50m</td>\n",
       "      <td>non-stop</td>\n",
       "      <td>No info</td>\n",
       "      <td>3897</td>\n",
       "    </tr>\n",
       "    <tr>\n",
       "      <th>Air India</th>\n",
       "      <td>1/05/2019</td>\n",
       "      <td>Kolkata</td>\n",
       "      <td>Banglore</td>\n",
       "      <td>CCU → IXR → BBI → BLR</td>\n",
       "      <td>05:50</td>\n",
       "      <td>13:15</td>\n",
       "      <td>7h 25m</td>\n",
       "      <td>2 stops</td>\n",
       "      <td>No info</td>\n",
       "      <td>7662</td>\n",
       "    </tr>\n",
       "    <tr>\n",
       "      <th>Jet Airways</th>\n",
       "      <td>9/06/2019</td>\n",
       "      <td>Delhi</td>\n",
       "      <td>Cochin</td>\n",
       "      <td>DEL → LKO → BOM → COK</td>\n",
       "      <td>09:25</td>\n",
       "      <td>04:25 10 Jun</td>\n",
       "      <td>19h</td>\n",
       "      <td>2 stops</td>\n",
       "      <td>No info</td>\n",
       "      <td>13882</td>\n",
       "    </tr>\n",
       "    <tr>\n",
       "      <th>IndiGo</th>\n",
       "      <td>12/05/2019</td>\n",
       "      <td>Kolkata</td>\n",
       "      <td>Banglore</td>\n",
       "      <td>CCU → NAG → BLR</td>\n",
       "      <td>18:05</td>\n",
       "      <td>23:30</td>\n",
       "      <td>5h 25m</td>\n",
       "      <td>1 stop</td>\n",
       "      <td>No info</td>\n",
       "      <td>6218</td>\n",
       "    </tr>\n",
       "    <tr>\n",
       "      <th>IndiGo</th>\n",
       "      <td>01/03/2019</td>\n",
       "      <td>Banglore</td>\n",
       "      <td>New Delhi</td>\n",
       "      <td>BLR → NAG → DEL</td>\n",
       "      <td>16:50</td>\n",
       "      <td>21:35</td>\n",
       "      <td>4h 45m</td>\n",
       "      <td>1 stop</td>\n",
       "      <td>No info</td>\n",
       "      <td>13302</td>\n",
       "    </tr>\n",
       "  </tbody>\n",
       "</table>\n",
       "</div>"
      ],
      "text/plain": [
       "            Date_of_Journey    Source Destination                  Route  \\\n",
       "Airline                                                                    \n",
       "IndiGo           24/03/2019  Banglore   New Delhi              BLR → DEL   \n",
       "Air India         1/05/2019   Kolkata    Banglore  CCU → IXR → BBI → BLR   \n",
       "Jet Airways       9/06/2019     Delhi      Cochin  DEL → LKO → BOM → COK   \n",
       "IndiGo           12/05/2019   Kolkata    Banglore        CCU → NAG → BLR   \n",
       "IndiGo           01/03/2019  Banglore   New Delhi        BLR → NAG → DEL   \n",
       "\n",
       "            Dep_Time  Arrival_Time Duration Total_Stops Additional_Info  Price  \n",
       "Airline                                                                         \n",
       "IndiGo         22:20  01:10 22 Mar   2h 50m    non-stop         No info   3897  \n",
       "Air India      05:50         13:15   7h 25m     2 stops         No info   7662  \n",
       "Jet Airways    09:25  04:25 10 Jun      19h     2 stops         No info  13882  \n",
       "IndiGo         18:05         23:30   5h 25m      1 stop         No info   6218  \n",
       "IndiGo         16:50         21:35   4h 45m      1 stop         No info  13302  "
      ]
     },
     "execution_count": 3004,
     "metadata": {},
     "output_type": "execute_result"
    }
   ],
   "source": [
    "dataset.head()"
   ]
  },
  {
   "cell_type": "code",
   "execution_count": 3005,
   "metadata": {},
   "outputs": [
    {
     "name": "stdout",
     "output_type": "stream",
     "text": [
      "<class 'pandas.core.frame.DataFrame'>\n",
      "Index: 10683 entries, IndiGo to Air India\n",
      "Data columns (total 10 columns):\n",
      " #   Column           Non-Null Count  Dtype \n",
      "---  ------           --------------  ----- \n",
      " 0   Date_of_Journey  10683 non-null  object\n",
      " 1   Source           10683 non-null  object\n",
      " 2   Destination      10683 non-null  object\n",
      " 3   Route            10682 non-null  object\n",
      " 4   Dep_Time         10683 non-null  object\n",
      " 5   Arrival_Time     10683 non-null  object\n",
      " 6   Duration         10683 non-null  object\n",
      " 7   Total_Stops      10682 non-null  object\n",
      " 8   Additional_Info  10683 non-null  object\n",
      " 9   Price            10683 non-null  int64 \n",
      "dtypes: int64(1), object(9)\n",
      "memory usage: 6.2 MB\n"
     ]
    }
   ],
   "source": [
    "dataset.info(memory_usage=\"deep\")"
   ]
  },
  {
   "cell_type": "code",
   "execution_count": 3006,
   "metadata": {},
   "outputs": [
    {
     "name": "stdout",
     "output_type": "stream",
     "text": [
      "<class 'pandas.core.frame.DataFrame'>\n",
      "RangeIndex: 10683 entries, 0 to 10682\n",
      "Data columns (total 11 columns):\n",
      " #   Column           Non-Null Count  Dtype \n",
      "---  ------           --------------  ----- \n",
      " 0   Airline          10683 non-null  object\n",
      " 1   Date_of_Journey  10683 non-null  object\n",
      " 2   Source           10683 non-null  object\n",
      " 3   Destination      10683 non-null  object\n",
      " 4   Route            10682 non-null  object\n",
      " 5   Dep_Time         10683 non-null  object\n",
      " 6   Arrival_Time     10683 non-null  object\n",
      " 7   Duration         10683 non-null  object\n",
      " 8   Total_Stops      10682 non-null  object\n",
      " 9   Additional_Info  10683 non-null  object\n",
      " 10  Price            10683 non-null  int64 \n",
      "dtypes: int64(1), object(10)\n",
      "memory usage: 6.2 MB\n"
     ]
    }
   ],
   "source": [
    "dataset.reset_index(inplace=True)\n",
    "dataset.info(memory_usage=\"deep\")"
   ]
  },
  {
   "cell_type": "code",
   "execution_count": 3007,
   "metadata": {},
   "outputs": [
    {
     "data": {
      "text/html": [
       "<div>\n",
       "<style scoped>\n",
       "    .dataframe tbody tr th:only-of-type {\n",
       "        vertical-align: middle;\n",
       "    }\n",
       "\n",
       "    .dataframe tbody tr th {\n",
       "        vertical-align: top;\n",
       "    }\n",
       "\n",
       "    .dataframe thead th {\n",
       "        text-align: right;\n",
       "    }\n",
       "</style>\n",
       "<table border=\"1\" class=\"dataframe\">\n",
       "  <thead>\n",
       "    <tr style=\"text-align: right;\">\n",
       "      <th></th>\n",
       "      <th>Price</th>\n",
       "    </tr>\n",
       "  </thead>\n",
       "  <tbody>\n",
       "    <tr>\n",
       "      <th>count</th>\n",
       "      <td>10683.000000</td>\n",
       "    </tr>\n",
       "    <tr>\n",
       "      <th>mean</th>\n",
       "      <td>9087.064121</td>\n",
       "    </tr>\n",
       "    <tr>\n",
       "      <th>std</th>\n",
       "      <td>4611.359167</td>\n",
       "    </tr>\n",
       "    <tr>\n",
       "      <th>min</th>\n",
       "      <td>1759.000000</td>\n",
       "    </tr>\n",
       "    <tr>\n",
       "      <th>25%</th>\n",
       "      <td>5277.000000</td>\n",
       "    </tr>\n",
       "    <tr>\n",
       "      <th>50%</th>\n",
       "      <td>8372.000000</td>\n",
       "    </tr>\n",
       "    <tr>\n",
       "      <th>75%</th>\n",
       "      <td>12373.000000</td>\n",
       "    </tr>\n",
       "    <tr>\n",
       "      <th>max</th>\n",
       "      <td>79512.000000</td>\n",
       "    </tr>\n",
       "  </tbody>\n",
       "</table>\n",
       "</div>"
      ],
      "text/plain": [
       "              Price\n",
       "count  10683.000000\n",
       "mean    9087.064121\n",
       "std     4611.359167\n",
       "min     1759.000000\n",
       "25%     5277.000000\n",
       "50%     8372.000000\n",
       "75%    12373.000000\n",
       "max    79512.000000"
      ]
     },
     "execution_count": 3007,
     "metadata": {},
     "output_type": "execute_result"
    }
   ],
   "source": [
    "dataset.describe()"
   ]
  },
  {
   "cell_type": "markdown",
   "metadata": {},
   "source": [
    "Il prezzo del biglietto all'interno del dataset è espresso in Rupie indiane, per comodità e per una maggiore comprensione dei dati, procederemo a convertirlo in euro."
   ]
  },
  {
   "cell_type": "code",
   "execution_count": 3008,
   "metadata": {},
   "outputs": [],
   "source": [
    "tasso_di_cambio = 0.011  # 1 INR = 0.011 EUR\n",
    "dataset['Price'] = round(dataset['Price'] * tasso_di_cambio, 2)"
   ]
  },
  {
   "cell_type": "code",
   "execution_count": 3009,
   "metadata": {},
   "outputs": [
    {
     "data": {
      "text/html": [
       "<div>\n",
       "<style scoped>\n",
       "    .dataframe tbody tr th:only-of-type {\n",
       "        vertical-align: middle;\n",
       "    }\n",
       "\n",
       "    .dataframe tbody tr th {\n",
       "        vertical-align: top;\n",
       "    }\n",
       "\n",
       "    .dataframe thead th {\n",
       "        text-align: right;\n",
       "    }\n",
       "</style>\n",
       "<table border=\"1\" class=\"dataframe\">\n",
       "  <thead>\n",
       "    <tr style=\"text-align: right;\">\n",
       "      <th></th>\n",
       "      <th>Price</th>\n",
       "    </tr>\n",
       "  </thead>\n",
       "  <tbody>\n",
       "    <tr>\n",
       "      <th>count</th>\n",
       "      <td>10683.000000</td>\n",
       "    </tr>\n",
       "    <tr>\n",
       "      <th>mean</th>\n",
       "      <td>99.957207</td>\n",
       "    </tr>\n",
       "    <tr>\n",
       "      <th>std</th>\n",
       "      <td>50.724979</td>\n",
       "    </tr>\n",
       "    <tr>\n",
       "      <th>min</th>\n",
       "      <td>19.350000</td>\n",
       "    </tr>\n",
       "    <tr>\n",
       "      <th>25%</th>\n",
       "      <td>58.050000</td>\n",
       "    </tr>\n",
       "    <tr>\n",
       "      <th>50%</th>\n",
       "      <td>92.090000</td>\n",
       "    </tr>\n",
       "    <tr>\n",
       "      <th>75%</th>\n",
       "      <td>136.100000</td>\n",
       "    </tr>\n",
       "    <tr>\n",
       "      <th>max</th>\n",
       "      <td>874.630000</td>\n",
       "    </tr>\n",
       "  </tbody>\n",
       "</table>\n",
       "</div>"
      ],
      "text/plain": [
       "              Price\n",
       "count  10683.000000\n",
       "mean      99.957207\n",
       "std       50.724979\n",
       "min       19.350000\n",
       "25%       58.050000\n",
       "50%       92.090000\n",
       "75%      136.100000\n",
       "max      874.630000"
      ]
     },
     "execution_count": 3009,
     "metadata": {},
     "output_type": "execute_result"
    }
   ],
   "source": [
    "dataset.describe()"
   ]
  },
  {
   "cell_type": "markdown",
   "metadata": {},
   "source": [
    "Da questi dati possiamo vedere come il prezzo più basso di un biglietto sia 19.35€, il prezzo più alto 874.63€ e che la media si aggiri attorno ai 100€."
   ]
  },
  {
   "cell_type": "markdown",
   "metadata": {},
   "source": [
    "\n",
    "## Preporcessing dei dati"
   ]
  },
  {
   "cell_type": "markdown",
   "metadata": {},
   "source": [
    "### aggiunta di variabili\n",
    "Ricaviamo dalla feature **Date_of_Journey** altre  features che ci saranno utili per la nostra previsione ovvero **Day**, **Month** e **Year**. Aggiungiamo inoltre la feature che ci permette di capire il giorno della settimana in cui è partito il volo per poter capire se esso incide con l'aumento del costo del biglietto."
   ]
  },
  {
   "cell_type": "code",
   "execution_count": 3010,
   "metadata": {},
   "outputs": [],
   "source": [
    "dataset[\"Date_of_Journey\"] = pd.to_datetime(dataset[\"Date_of_Journey\"])\n",
    "\n",
    "dataset[\"Day\"] = dataset.Date_of_Journey.dt.day\n",
    "dataset[\"Month\"] = dataset.Date_of_Journey.dt.month\n",
    "dataset[\"Year\"] = dataset.Date_of_Journey.dt.year\n",
    "\n",
    "dataset[\"Day_of_Week\"] = dataset.Date_of_Journey.dt.weekday\n",
    "\n",
    "dataset = dataset.drop(\"Date_of_Journey\", axis = 1)"
   ]
  },
  {
   "cell_type": "code",
   "execution_count": 3011,
   "metadata": {},
   "outputs": [
    {
     "data": {
      "text/plain": [
       "Year\n",
       "2019    10683\n",
       "Name: count, dtype: int64"
      ]
     },
     "execution_count": 3011,
     "metadata": {},
     "output_type": "execute_result"
    }
   ],
   "source": [
    "dataset[\"Year\"].value_counts()\n"
   ]
  },
  {
   "cell_type": "markdown",
   "metadata": {},
   "source": [
    "come possiamo notare utilizzando al funzione value_counts() il dataset presenta solo voli effettuati nel 2019 di conseguenza la features può essere rimossa"
   ]
  },
  {
   "cell_type": "code",
   "execution_count": 3012,
   "metadata": {},
   "outputs": [],
   "source": [
    "dataset = dataset.drop(\"Year\", axis = 1)"
   ]
  },
  {
   "cell_type": "code",
   "execution_count": 3013,
   "metadata": {},
   "outputs": [
    {
     "data": {
      "text/plain": [
       "Month\n",
       "5    3466\n",
       "6    3414\n",
       "3    2724\n",
       "4    1079\n",
       "Name: count, dtype: int64"
      ]
     },
     "execution_count": 3013,
     "metadata": {},
     "output_type": "execute_result"
    }
   ],
   "source": [
    "dataset[\"Month\"].value_counts()"
   ]
  },
  {
   "cell_type": "markdown",
   "metadata": {},
   "source": [
    "In questo caso i mesi presenti nel dataset sono solo quelli che vanno da Marzo a Giugno. Questo implica che il modello di previsione del prezzo dei biglietti aerei sarà specifico per questo intervallo temporale e non sarà generalizzabile ai voli prenotati in altri mesi."
   ]
  },
  {
   "cell_type": "markdown",
   "metadata": {},
   "source": [
    "Per migliorare l'interpretabilità dei dati, vengono sostituiti i valori ottenuti per le feature **Month** e **Day_of_Week** con i nomi dei mesi  e i giorni della settimana corrispondenti"
   ]
  },
  {
   "cell_type": "code",
   "execution_count": 3014,
   "metadata": {},
   "outputs": [],
   "source": [
    "month = {\n",
    "    3:'Mar',\n",
    "    4:'Apr',\n",
    "    5:'May',\n",
    "    6:'June',\n",
    "}\n",
    "\n",
    "day = {\n",
    "    0:'Mon',\n",
    "    1:'Tue',\n",
    "    2:'Wed',\n",
    "    3:'Thu',\n",
    "    4:'Fri',\n",
    "    5:'Sat',\n",
    "    6:'Sun'\n",
    "}\n",
    "\n",
    "dataset[\"Month\"] = dataset.Month.map(month).astype(\"category\")\n",
    "dataset[\"Day_of_Week\"] = dataset.Day_of_Week.map(day).astype(\"category\")"
   ]
  },
  {
   "cell_type": "markdown",
   "metadata": {},
   "source": [
    "Anche per quanto riguarda le features **Dep_Time** , **Arrival_Time** e **Duration** è necessario estrarre due nuove variabaili ciascuna per poter ricavare le ore e i minuti"
   ]
  },
  {
   "cell_type": "code",
   "execution_count": 3015,
   "metadata": {},
   "outputs": [],
   "source": [
    "dataset[\"Dep_Time\"] = pd.to_datetime(dataset[\"Dep_Time\"])\n",
    "dataset[\"Arrival_Time\"] = pd.to_datetime(dataset[\"Arrival_Time\"])\n",
    "\n",
    "dataset[\"Dep_hour\"] = dataset.Dep_Time.dt.hour\n",
    "dataset[\"Dep_min\"] = dataset.Dep_Time.dt.minute\n",
    "\n",
    "dataset[\"Arrival_hour\"] = dataset.Arrival_Time.dt.hour\n",
    "dataset[\"Arrival_min\"] = dataset.Arrival_Time.dt.minute\n",
    "\n",
    "dataset = dataset.drop(\"Dep_Time\", axis = 1)\n",
    "dataset = dataset.drop(\"Arrival_Time\", axis = 1)"
   ]
  },
  {
   "cell_type": "markdown",
   "metadata": {},
   "source": [
    "La colonna **Duration** contiene stringhe che rappresentano la durata dei voli in formato testuale (come \"2h 30m\", \"1h 45m\", \"3h\", \"45m\"). Bisogna, quindi, convertire il contenuto della colonna **Duration** in un formato che rappresenti la durata in ore e minuti, in modo da poter eseguire calcoli o analisi temporali più agevolmente.\n",
    "\n",
    "Prima però è importante gestire i casi in cui la durata non include ore o minuti"
   ]
  },
  {
   "cell_type": "code",
   "execution_count": 3016,
   "metadata": {},
   "outputs": [],
   "source": [
    "\n",
    "duration = list(dataset['Duration'])\n",
    "\n",
    "for i in range(len(duration)):\n",
    "    parts = duration[i].split(' ')\n",
    "    if len(parts) == 1:\n",
    "        if 'h' in parts[0]:\n",
    "            duration[i] = duration[i] + ' 0m'\n",
    "        else:\n",
    "            duration[i] = '0h ' + duration[i]\n",
    "    elif len(parts) == 2:\n",
    "        if 'h' not in parts[0]:\n",
    "            duration[i] = '0h ' + duration[i]\n",
    "        elif 'm' not in parts[1]:\n",
    "            duration[i] = duration[i] + ' 0m'\n",
    "        \n",
    "\n",
    "dataset[\"Duration\"] = duration\n"
   ]
  },
  {
   "cell_type": "code",
   "execution_count": 3017,
   "metadata": {},
   "outputs": [],
   "source": [
    "def extract_hours(d):\n",
    "    return int(d.split(' ')[0][:-1]) \n",
    "\n",
    "def extract_minutes(d):\n",
    "    return int(d.split(' ')[-1][:-1]) "
   ]
  },
  {
   "cell_type": "code",
   "execution_count": 3018,
   "metadata": {},
   "outputs": [],
   "source": [
    "dataset['Duration_hour'] = dataset['Duration'].apply(extract_hours)\n",
    "dataset['Duration_minute'] = dataset['Duration'].apply(extract_minutes)\n",
    "dataset = dataset.drop(\"Duration\", axis = 1)"
   ]
  },
  {
   "cell_type": "markdown",
   "metadata": {},
   "source": [
    "Possiamo rimuovere anche la colonna **Additional_Info** perchè risulta essere inutile per le nostre previsioni"
   ]
  },
  {
   "cell_type": "code",
   "execution_count": 3019,
   "metadata": {},
   "outputs": [],
   "source": [
    "dataset = dataset.drop(\"Additional_Info\", axis = 1)"
   ]
  },
  {
   "cell_type": "code",
   "execution_count": 3020,
   "metadata": {},
   "outputs": [
    {
     "data": {
      "text/html": [
       "<div>\n",
       "<style scoped>\n",
       "    .dataframe tbody tr th:only-of-type {\n",
       "        vertical-align: middle;\n",
       "    }\n",
       "\n",
       "    .dataframe tbody tr th {\n",
       "        vertical-align: top;\n",
       "    }\n",
       "\n",
       "    .dataframe thead th {\n",
       "        text-align: right;\n",
       "    }\n",
       "</style>\n",
       "<table border=\"1\" class=\"dataframe\">\n",
       "  <thead>\n",
       "    <tr style=\"text-align: right;\">\n",
       "      <th></th>\n",
       "      <th>Airline</th>\n",
       "      <th>Source</th>\n",
       "      <th>Destination</th>\n",
       "      <th>Route</th>\n",
       "      <th>Total_Stops</th>\n",
       "      <th>Price</th>\n",
       "      <th>Day</th>\n",
       "      <th>Month</th>\n",
       "      <th>Day_of_Week</th>\n",
       "      <th>Dep_hour</th>\n",
       "      <th>Dep_min</th>\n",
       "      <th>Arrival_hour</th>\n",
       "      <th>Arrival_min</th>\n",
       "      <th>Duration_hour</th>\n",
       "      <th>Duration_minute</th>\n",
       "    </tr>\n",
       "  </thead>\n",
       "  <tbody>\n",
       "    <tr>\n",
       "      <th>0</th>\n",
       "      <td>IndiGo</td>\n",
       "      <td>Banglore</td>\n",
       "      <td>New Delhi</td>\n",
       "      <td>BLR → DEL</td>\n",
       "      <td>non-stop</td>\n",
       "      <td>42.87</td>\n",
       "      <td>24</td>\n",
       "      <td>Mar</td>\n",
       "      <td>Sun</td>\n",
       "      <td>22</td>\n",
       "      <td>20</td>\n",
       "      <td>1</td>\n",
       "      <td>10</td>\n",
       "      <td>2</td>\n",
       "      <td>50</td>\n",
       "    </tr>\n",
       "    <tr>\n",
       "      <th>1</th>\n",
       "      <td>Air India</td>\n",
       "      <td>Kolkata</td>\n",
       "      <td>Banglore</td>\n",
       "      <td>CCU → IXR → BBI → BLR</td>\n",
       "      <td>2 stops</td>\n",
       "      <td>84.28</td>\n",
       "      <td>1</td>\n",
       "      <td>May</td>\n",
       "      <td>Wed</td>\n",
       "      <td>5</td>\n",
       "      <td>50</td>\n",
       "      <td>13</td>\n",
       "      <td>15</td>\n",
       "      <td>7</td>\n",
       "      <td>25</td>\n",
       "    </tr>\n",
       "    <tr>\n",
       "      <th>2</th>\n",
       "      <td>Jet Airways</td>\n",
       "      <td>Delhi</td>\n",
       "      <td>Cochin</td>\n",
       "      <td>DEL → LKO → BOM → COK</td>\n",
       "      <td>2 stops</td>\n",
       "      <td>152.70</td>\n",
       "      <td>9</td>\n",
       "      <td>June</td>\n",
       "      <td>Sun</td>\n",
       "      <td>9</td>\n",
       "      <td>25</td>\n",
       "      <td>4</td>\n",
       "      <td>25</td>\n",
       "      <td>19</td>\n",
       "      <td>0</td>\n",
       "    </tr>\n",
       "    <tr>\n",
       "      <th>3</th>\n",
       "      <td>IndiGo</td>\n",
       "      <td>Kolkata</td>\n",
       "      <td>Banglore</td>\n",
       "      <td>CCU → NAG → BLR</td>\n",
       "      <td>1 stop</td>\n",
       "      <td>68.40</td>\n",
       "      <td>12</td>\n",
       "      <td>May</td>\n",
       "      <td>Sun</td>\n",
       "      <td>18</td>\n",
       "      <td>5</td>\n",
       "      <td>23</td>\n",
       "      <td>30</td>\n",
       "      <td>5</td>\n",
       "      <td>25</td>\n",
       "    </tr>\n",
       "    <tr>\n",
       "      <th>4</th>\n",
       "      <td>IndiGo</td>\n",
       "      <td>Banglore</td>\n",
       "      <td>New Delhi</td>\n",
       "      <td>BLR → NAG → DEL</td>\n",
       "      <td>1 stop</td>\n",
       "      <td>146.32</td>\n",
       "      <td>1</td>\n",
       "      <td>Mar</td>\n",
       "      <td>Fri</td>\n",
       "      <td>16</td>\n",
       "      <td>50</td>\n",
       "      <td>21</td>\n",
       "      <td>35</td>\n",
       "      <td>4</td>\n",
       "      <td>45</td>\n",
       "    </tr>\n",
       "    <tr>\n",
       "      <th>5</th>\n",
       "      <td>SpiceJet</td>\n",
       "      <td>Kolkata</td>\n",
       "      <td>Banglore</td>\n",
       "      <td>CCU → BLR</td>\n",
       "      <td>non-stop</td>\n",
       "      <td>42.60</td>\n",
       "      <td>24</td>\n",
       "      <td>June</td>\n",
       "      <td>Mon</td>\n",
       "      <td>9</td>\n",
       "      <td>0</td>\n",
       "      <td>11</td>\n",
       "      <td>25</td>\n",
       "      <td>2</td>\n",
       "      <td>25</td>\n",
       "    </tr>\n",
       "    <tr>\n",
       "      <th>6</th>\n",
       "      <td>Jet Airways</td>\n",
       "      <td>Banglore</td>\n",
       "      <td>New Delhi</td>\n",
       "      <td>BLR → BOM → DEL</td>\n",
       "      <td>1 stop</td>\n",
       "      <td>121.96</td>\n",
       "      <td>12</td>\n",
       "      <td>Mar</td>\n",
       "      <td>Tue</td>\n",
       "      <td>18</td>\n",
       "      <td>55</td>\n",
       "      <td>10</td>\n",
       "      <td>25</td>\n",
       "      <td>15</td>\n",
       "      <td>30</td>\n",
       "    </tr>\n",
       "    <tr>\n",
       "      <th>7</th>\n",
       "      <td>Jet Airways</td>\n",
       "      <td>Banglore</td>\n",
       "      <td>New Delhi</td>\n",
       "      <td>BLR → BOM → DEL</td>\n",
       "      <td>1 stop</td>\n",
       "      <td>244.97</td>\n",
       "      <td>1</td>\n",
       "      <td>Mar</td>\n",
       "      <td>Fri</td>\n",
       "      <td>8</td>\n",
       "      <td>0</td>\n",
       "      <td>5</td>\n",
       "      <td>5</td>\n",
       "      <td>21</td>\n",
       "      <td>5</td>\n",
       "    </tr>\n",
       "    <tr>\n",
       "      <th>8</th>\n",
       "      <td>Jet Airways</td>\n",
       "      <td>Banglore</td>\n",
       "      <td>New Delhi</td>\n",
       "      <td>BLR → BOM → DEL</td>\n",
       "      <td>1 stop</td>\n",
       "      <td>121.96</td>\n",
       "      <td>12</td>\n",
       "      <td>Mar</td>\n",
       "      <td>Tue</td>\n",
       "      <td>8</td>\n",
       "      <td>55</td>\n",
       "      <td>10</td>\n",
       "      <td>25</td>\n",
       "      <td>25</td>\n",
       "      <td>30</td>\n",
       "    </tr>\n",
       "    <tr>\n",
       "      <th>9</th>\n",
       "      <td>Multiple carriers</td>\n",
       "      <td>Delhi</td>\n",
       "      <td>Cochin</td>\n",
       "      <td>DEL → BOM → COK</td>\n",
       "      <td>1 stop</td>\n",
       "      <td>94.88</td>\n",
       "      <td>27</td>\n",
       "      <td>May</td>\n",
       "      <td>Mon</td>\n",
       "      <td>11</td>\n",
       "      <td>25</td>\n",
       "      <td>19</td>\n",
       "      <td>15</td>\n",
       "      <td>7</td>\n",
       "      <td>50</td>\n",
       "    </tr>\n",
       "  </tbody>\n",
       "</table>\n",
       "</div>"
      ],
      "text/plain": [
       "             Airline    Source Destination                  Route Total_Stops  \\\n",
       "0             IndiGo  Banglore   New Delhi              BLR → DEL    non-stop   \n",
       "1          Air India   Kolkata    Banglore  CCU → IXR → BBI → BLR     2 stops   \n",
       "2        Jet Airways     Delhi      Cochin  DEL → LKO → BOM → COK     2 stops   \n",
       "3             IndiGo   Kolkata    Banglore        CCU → NAG → BLR      1 stop   \n",
       "4             IndiGo  Banglore   New Delhi        BLR → NAG → DEL      1 stop   \n",
       "5           SpiceJet   Kolkata    Banglore              CCU → BLR    non-stop   \n",
       "6        Jet Airways  Banglore   New Delhi        BLR → BOM → DEL      1 stop   \n",
       "7        Jet Airways  Banglore   New Delhi        BLR → BOM → DEL      1 stop   \n",
       "8        Jet Airways  Banglore   New Delhi        BLR → BOM → DEL      1 stop   \n",
       "9  Multiple carriers     Delhi      Cochin        DEL → BOM → COK      1 stop   \n",
       "\n",
       "    Price  Day Month Day_of_Week  Dep_hour  Dep_min  Arrival_hour  \\\n",
       "0   42.87   24   Mar         Sun        22       20             1   \n",
       "1   84.28    1   May         Wed         5       50            13   \n",
       "2  152.70    9  June         Sun         9       25             4   \n",
       "3   68.40   12   May         Sun        18        5            23   \n",
       "4  146.32    1   Mar         Fri        16       50            21   \n",
       "5   42.60   24  June         Mon         9        0            11   \n",
       "6  121.96   12   Mar         Tue        18       55            10   \n",
       "7  244.97    1   Mar         Fri         8        0             5   \n",
       "8  121.96   12   Mar         Tue         8       55            10   \n",
       "9   94.88   27   May         Mon        11       25            19   \n",
       "\n",
       "   Arrival_min  Duration_hour  Duration_minute  \n",
       "0           10              2               50  \n",
       "1           15              7               25  \n",
       "2           25             19                0  \n",
       "3           30              5               25  \n",
       "4           35              4               45  \n",
       "5           25              2               25  \n",
       "6           25             15               30  \n",
       "7            5             21                5  \n",
       "8           25             25               30  \n",
       "9           15              7               50  "
      ]
     },
     "execution_count": 3020,
     "metadata": {},
     "output_type": "execute_result"
    }
   ],
   "source": [
    "dataset.head(10)"
   ]
  },
  {
   "cell_type": "markdown",
   "metadata": {},
   "source": [
    "### Valori mancanti"
   ]
  },
  {
   "cell_type": "markdown",
   "metadata": {},
   "source": [
    "Utilizzando il metodo **isna()** verifichiamo la presenza di valori nulli all'interno del dataset "
   ]
  },
  {
   "cell_type": "code",
   "execution_count": 3072,
   "metadata": {},
   "outputs": [
    {
     "data": {
      "text/plain": [
       "Total_Stops                        False\n",
       "Price                              False\n",
       "Day                                False\n",
       "Dep_hour                           False\n",
       "Dep_min                            False\n",
       "                                   ...  \n",
       "Airline_Vistara Premium economy    False\n",
       "Month_Apr                          False\n",
       "Month_June                         False\n",
       "Month_Mar                          False\n",
       "Month_May                          False\n",
       "Length: 142, dtype: bool"
      ]
     },
     "execution_count": 3072,
     "metadata": {},
     "output_type": "execute_result"
    }
   ],
   "source": [
    "dataset.isna().any()"
   ]
  },
  {
   "cell_type": "markdown",
   "metadata": {},
   "source": [
    "Per capire come gestire i dati mancanti, verifichiamone prima la quantità"
   ]
  },
  {
   "cell_type": "code",
   "execution_count": 3022,
   "metadata": {},
   "outputs": [
    {
     "name": "stdout",
     "output_type": "stream",
     "text": [
      "Airline            0\n",
      "Source             0\n",
      "Destination        0\n",
      "Route              1\n",
      "Total_Stops        1\n",
      "Price              0\n",
      "Day                0\n",
      "Month              0\n",
      "Day_of_Week        0\n",
      "Dep_hour           0\n",
      "Dep_min            0\n",
      "Arrival_hour       0\n",
      "Arrival_min        0\n",
      "Duration_hour      0\n",
      "Duration_minute    0\n",
      "dtype: int64\n"
     ]
    }
   ],
   "source": [
    "missing_data = dataset.isnull().sum()\n",
    "print(missing_data)"
   ]
  },
  {
   "cell_type": "markdown",
   "metadata": {},
   "source": [
    "Poichè i dati mancanti sono solo 2 ( 1 per la colonna delle Rotte e 1 per la colonna che indica il numero degli scali ), possiamo procedere rimuovendoli"
   ]
  },
  {
   "cell_type": "code",
   "execution_count": 3023,
   "metadata": {},
   "outputs": [],
   "source": [
    "dataset = dataset.dropna()"
   ]
  },
  {
   "cell_type": "markdown",
   "metadata": {},
   "source": [
    "### Tipi di dato"
   ]
  },
  {
   "cell_type": "code",
   "execution_count": 3024,
   "metadata": {},
   "outputs": [
    {
     "name": "stdout",
     "output_type": "stream",
     "text": [
      "<class 'pandas.core.frame.DataFrame'>\n",
      "Index: 10682 entries, 0 to 10682\n",
      "Data columns (total 15 columns):\n",
      " #   Column           Non-Null Count  Dtype   \n",
      "---  ------           --------------  -----   \n",
      " 0   Airline          10682 non-null  object  \n",
      " 1   Source           10682 non-null  object  \n",
      " 2   Destination      10682 non-null  object  \n",
      " 3   Route            10682 non-null  object  \n",
      " 4   Total_Stops      10682 non-null  object  \n",
      " 5   Price            10682 non-null  float64 \n",
      " 6   Day              10682 non-null  int32   \n",
      " 7   Month            10682 non-null  category\n",
      " 8   Day_of_Week      10682 non-null  category\n",
      " 9   Dep_hour         10682 non-null  int32   \n",
      " 10  Dep_min          10682 non-null  int32   \n",
      " 11  Arrival_hour     10682 non-null  int32   \n",
      " 12  Arrival_min      10682 non-null  int32   \n",
      " 13  Duration_hour    10682 non-null  int64   \n",
      " 14  Duration_minute  10682 non-null  int64   \n",
      "dtypes: category(2), float64(1), int32(5), int64(2), object(5)\n",
      "memory usage: 3.8 MB\n"
     ]
    }
   ],
   "source": [
    "dataset.info(memory_usage = \"deep\")"
   ]
  },
  {
   "cell_type": "markdown",
   "metadata": {},
   "source": [
    "Convertiamo  la variabile **Total_Stops** da Object ad intero mappando i valori della variabile (non-stop, 2 stops, 1 stops...) nel corrispondete numero di scali previsti dal volo"
   ]
  },
  {
   "cell_type": "code",
   "execution_count": 3025,
   "metadata": {},
   "outputs": [],
   "source": [
    "# Mappatura per sostituire \"non-stop\" con 0\n",
    "stop_mapping = {'non-stop': 0, '1 stop': 1, '2 stops': 2, '3 stops': 3, '4 stops': 4}\n",
    "\n",
    "# Applica la sostituzione e converte in intero\n",
    "dataset['Total_Stops'] = dataset['Total_Stops'].replace(stop_mapping).astype(int)"
   ]
  },
  {
   "cell_type": "markdown",
   "metadata": {},
   "source": [
    "Convertiamo le variabili object rimanenti in categorical"
   ]
  },
  {
   "cell_type": "code",
   "execution_count": 3026,
   "metadata": {},
   "outputs": [
    {
     "name": "stdout",
     "output_type": "stream",
     "text": [
      "<class 'pandas.core.frame.DataFrame'>\n",
      "Index: 10682 entries, 0 to 10682\n",
      "Data columns (total 15 columns):\n",
      " #   Column           Non-Null Count  Dtype   \n",
      "---  ------           --------------  -----   \n",
      " 0   Airline          10682 non-null  category\n",
      " 1   Source           10682 non-null  category\n",
      " 2   Destination      10682 non-null  category\n",
      " 3   Route            10682 non-null  category\n",
      " 4   Total_Stops      10682 non-null  int32   \n",
      " 5   Price            10682 non-null  float64 \n",
      " 6   Day              10682 non-null  int32   \n",
      " 7   Month            10682 non-null  category\n",
      " 8   Day_of_Week      10682 non-null  category\n",
      " 9   Dep_hour         10682 non-null  int32   \n",
      " 10  Dep_min          10682 non-null  int32   \n",
      " 11  Arrival_hour     10682 non-null  int32   \n",
      " 12  Arrival_min      10682 non-null  int32   \n",
      " 13  Duration_hour    10682 non-null  int64   \n",
      " 14  Duration_minute  10682 non-null  int64   \n",
      "dtypes: category(6), float64(1), int32(6), int64(2)\n",
      "memory usage: 680.4 KB\n"
     ]
    }
   ],
   "source": [
    "categorical = [\"Airline\", \"Source\", \"Destination\", \"Route\"]\n",
    "\n",
    "for col in categorical:\n",
    "    if col in dataset.columns:\n",
    "        dataset[col] = dataset[col].astype(\"category\")\n",
    "        \n",
    "dataset.info(memory_usage=\"deep\")"
   ]
  },
  {
   "cell_type": "markdown",
   "metadata": {},
   "source": [
    "Come si può notare dopo le modifiche effettuate il peso in memoria del dataset è diminuito"
   ]
  },
  {
   "cell_type": "markdown",
   "metadata": {},
   "source": [
    "## Analisi dei dati:"
   ]
  },
  {
   "cell_type": "markdown",
   "metadata": {},
   "source": [
    "Ora analizzeremo i dati persenti nel dataset prendendo in considerazione le correlazioni tra essi e in particolare con la feature **Price**. \n",
    "Le correlazioni presenti verranno messe in evidenza utilizzando una matrice di correlazione:"
   ]
  },
  {
   "cell_type": "code",
   "execution_count": 3027,
   "metadata": {},
   "outputs": [
    {
     "data": {
      "image/png": "[encoded data removed]",
      "text/plain": [
       "<Figure size 1500x800 with 2 Axes>"
      ]
     },
     "metadata": {},
     "output_type": "display_data"
    }
   ],
   "source": [
    "\n",
    "import seaborn as sns\n",
    "\n",
    "def var_correlation(dataset):\n",
    "\n",
    "    numeric_cols = dataset.select_dtypes(include=np.number)\n",
    "    corr_matrix = numeric_cols.corr()\n",
    "    f, ax = plt.subplots(figsize=(15, 8))\n",
    "    mask = np.zeros_like(corr_matrix, dtype=bool)\n",
    "    mask[np.triu_indices_from(mask)] = True\n",
    "    sns.heatmap(corr_matrix, mask=mask, cmap='coolwarm', vmax=.3, center=0, annot=True,\n",
    "                square=True, linewidths=.5, cbar_kws={\"shrink\": .5})\n",
    "     \n",
    "\n",
    "var_correlation(dataset)"
   ]
  },
  {
   "cell_type": "markdown",
   "metadata": {},
   "source": [
    "Come possiamo vedere dai risultati ottenuti, non è presente nessun parametro con correlazione forte con la variabile **Price**. Tuttavia, la variabile **Total_stops** presenta una correlazione moderata e positiva (0.61) con **Price**, suggerendo che il numero di scali influisce significativamente sul prezzo del biglietto. La variabile **Duration_hour** ha una correlazione moderata e positiva (0.51) con **Price**, indicando che le ore di durata del volo influenzano anch'esse in modo significativo il prezzo del biglietto. Le variabili **Day** e **Duration_minute** hanno una correlazione leggermente negativa e quindi avranno un leggero effetto negativo sul prezzo del biglietto. Tuttavia, queste ultime due, insieme alle altre correlazioni trovate, sono deboli, il che significa che non avranno un impatto forte."
   ]
  },
  {
   "cell_type": "markdown",
   "metadata": {},
   "source": [
    "### Distribuzione del prezzo dei biglietti"
   ]
  },
  {
   "cell_type": "code",
   "execution_count": 3028,
   "metadata": {},
   "outputs": [
    {
     "data": {
      "image/png": "[encoded data removed]",
      "text/plain": [
       "<Figure size 1000x600 with 1 Axes>"
      ]
     },
     "metadata": {},
     "output_type": "display_data"
    }
   ],
   "source": [
    "plt.figure(figsize=(10, 6))\n",
    "sns.histplot(dataset['Price'], kde=True)\n",
    "\n",
    "mean_price = dataset['Price'].mean()\n",
    "median_price = dataset['Price'].median()\n",
    "\n",
    "plt.axvline(mean_price, color='magenta', linestyle='dashed', linewidth=2, label=f'Media: {mean_price:.2f} €')\n",
    "plt.axvline(median_price, color='cyan', linestyle='dashed', linewidth=2, label=f'Mediana: {median_price:.2f} €')\n",
    "\n",
    "\n",
    "plt.title('Distribuzione del Prezzo dei Biglietti')\n",
    "plt.xlabel('Prezzo')\n",
    "plt.ylabel('Frequenza')\n",
    "plt.show()"
   ]
  },
  {
   "cell_type": "markdown",
   "metadata": {},
   "source": [
    "La distribuzione del prezzo del biglietto è asimmetrica e presenta una coda  verso destra, indicando la presenza di prezzi più elevati in un numero limitato di casi. Questo suggerisce che la maggior parte dei biglietti ha un prezzo relativamente basso, mentre solo pochi biglietti sono venduti a prezzi molto alti."
   ]
  },
  {
   "cell_type": "code",
   "execution_count": 3029,
   "metadata": {},
   "outputs": [
    {
     "data": {
      "image/png": "[encoded data removed]",
      "text/plain": [
       "<Figure size 1200x600 with 1 Axes>"
      ]
     },
     "metadata": {},
     "output_type": "display_data"
    }
   ],
   "source": [
    "plt.figure(figsize=(12, 6))\n",
    "sns.barplot(x='Airline', y='Price', data=dataset)\n",
    "plt.title('Prezzo Medio dei Biglietti per Compagnia Aerea')\n",
    "plt.xlabel('Compagnia Aerea')\n",
    "plt.ylabel('Prezzo Medio')\n",
    "plt.xticks(rotation=45)\n",
    "plt.show()"
   ]
  },
  {
   "cell_type": "markdown",
   "metadata": {},
   "source": [
    "Come possiamo notare la compagnia **Jet Airways Business** ha un prezzo medio significativamente più alto, raggiungendo circa 60,000 rupie, rispetto a tutte le altre compagnie che si aggirano intorno alle 10,000 rupie o meno."
   ]
  },
  {
   "cell_type": "code",
   "execution_count": 3030,
   "metadata": {},
   "outputs": [
    {
     "data": {
      "image/png": "[encoded data removed]",
      "text/plain": [
       "<Figure size 1200x600 with 1 Axes>"
      ]
     },
     "metadata": {},
     "output_type": "display_data"
    }
   ],
   "source": [
    "# Prezzo medio in base alla partenza\n",
    "plt.figure(figsize=(12, 6))\n",
    "sns.barplot(x='Source', y='Price', data=dataset)\n",
    "plt.title('Prezzo Medio dei Biglietti per città di partenza')\n",
    "plt.xlabel('Origine')\n",
    "plt.ylabel('Prezzo Medio')\n",
    "plt.xticks(rotation=45)\n",
    "plt.show()"
   ]
  },
  {
   "cell_type": "markdown",
   "metadata": {},
   "source": [
    "Delhi ha i prezzi medi più alti, seguita da Kolkata e Bangalore. Chennai e Mumbai hanno i prezzi medi più bassi, indicativi di rotte più economiche o meno trafficate da queste città."
   ]
  },
  {
   "cell_type": "code",
   "execution_count": 3031,
   "metadata": {},
   "outputs": [
    {
     "data": {
      "image/png": "[encoded data removed]",
      "text/plain": [
       "<Figure size 1200x600 with 1 Axes>"
      ]
     },
     "metadata": {},
     "output_type": "display_data"
    }
   ],
   "source": [
    "plt.figure(figsize=(12, 6))\n",
    "sns.barplot(x='Destination', y='Price', data=dataset)\n",
    "plt.title('Prezzo Medio dei Biglietti per Destinazione')\n",
    "plt.xlabel('Destinazione')\n",
    "plt.ylabel('Prezzo Medio')\n",
    "plt.xticks(rotation=45)\n",
    "plt.show()"
   ]
  },
  {
   "cell_type": "markdown",
   "metadata": {},
   "source": [
    "New Delhi ha il prezzo medio più alto tra le destinazioni, seguita da Cochin e Bangalore. Delhi, Hyderabad e Kolkata hanno prezzi medi significativamente più bassi, suggerendo una maggiore accessibilità o frequenza dei voli verso queste destinazioni"
   ]
  },
  {
   "cell_type": "code",
   "execution_count": 3032,
   "metadata": {},
   "outputs": [
    {
     "data": {
      "image/png": "[encoded data removed]",
      "text/plain": [
       "<Figure size 1200x600 with 1 Axes>"
      ]
     },
     "metadata": {},
     "output_type": "display_data"
    }
   ],
   "source": [
    "plt.figure(figsize=(12, 6))\n",
    "sns.barplot(x='Total_Stops', y='Price', data=dataset)\n",
    "plt.title('Prezzo Medio dei Biglietti per Numero di Scali')\n",
    "plt.xlabel('Numero di Scali')\n",
    "plt.ylabel('Prezzo Medio')\n",
    "plt.show()"
   ]
  },
  {
   "cell_type": "markdown",
   "metadata": {},
   "source": [
    "Come possiamo vedere dal grafico i voli diretti sono significativamente più economici rispetto ai voli con scali multipli. La complessità del viaggio influisce notevolmente sui prezzi."
   ]
  },
  {
   "cell_type": "code",
   "execution_count": 3033,
   "metadata": {},
   "outputs": [
    {
     "data": {
      "image/png": "[encoded data removed]",
      "text/plain": [
       "<Figure size 1200x600 with 1 Axes>"
      ]
     },
     "metadata": {},
     "output_type": "display_data"
    }
   ],
   "source": [
    "plt.figure(figsize=(12, 6))\n",
    "sns.barplot(x='Day_of_Week', y='Price', data=dataset)\n",
    "plt.title('Prezzo Medio dei Biglietti per giorno della settimana')\n",
    "plt.xlabel('Giorno della settimana')\n",
    "plt.ylabel('Prezzo Medio')\n",
    "plt.show()"
   ]
  },
  {
   "cell_type": "markdown",
   "metadata": {},
   "source": [
    "I risultati mostrano che ci sono leggere variazioni nei prezzi medi dei biglietti aerei in base al giorno della settimana, con prezzi più alti il venerdì e la domenica e prezzi più bassi ad inizio settimana."
   ]
  },
  {
   "cell_type": "code",
   "execution_count": 3034,
   "metadata": {},
   "outputs": [
    {
     "data": {
      "image/png": "[encoded data removed]",
      "text/plain": [
       "<Figure size 1200x600 with 1 Axes>"
      ]
     },
     "metadata": {},
     "output_type": "display_data"
    }
   ],
   "source": [
    "plt.figure(figsize=(12, 6))\n",
    "sns.barplot(x='Month', y='Price', data=dataset)\n",
    "plt.title('Prezzo Medio dei Biglietti in base al mese')\n",
    "plt.xlabel('Mese')\n",
    "plt.ylabel('Prezzo Medio')\n",
    "plt.show()"
   ]
  },
  {
   "cell_type": "markdown",
   "metadata": {},
   "source": [
    "Dal grafico emerge che, nella stagione primaverile, il mese di marzo registra mediamente i prezzi più elevati per i biglietti aerei."
   ]
  },
  {
   "cell_type": "markdown",
   "metadata": {},
   "source": [
    "## Preparazione dei dati"
   ]
  },
  {
   "cell_type": "markdown",
   "metadata": {},
   "source": [
    "Dalla matrice di correlazione vista in precedenza possiamo osservare come ci sia una correlazione forte (74%) tra il numero di scali e la durata in ore del volo. Procediamo quindi ad eliminare la colonna dal dataframe perchè le dipendenze tra le variabili di input renderebbero la regressione instabile"
   ]
  },
  {
   "cell_type": "code",
   "execution_count": 3035,
   "metadata": {},
   "outputs": [],
   "source": [
    "dataset = dataset.drop(columns=[\"Duration_hour\"])"
   ]
  },
  {
   "cell_type": "markdown",
   "metadata": {},
   "source": [
    "### Trasformazione delle features categoriche "
   ]
  },
  {
   "cell_type": "markdown",
   "metadata": {},
   "source": [
    "Route è una sequenza di città che rappresenta gli scali previsti. Ogni città nella sequenza è un punto di scalo specifico durante il viaggio."
   ]
  },
  {
   "cell_type": "code",
   "execution_count": 3036,
   "metadata": {},
   "outputs": [
    {
     "data": {
      "text/plain": [
       "Route\n",
       "DEL → BOM → COK          2376\n",
       "BLR → DEL                1552\n",
       "CCU → BOM → BLR           979\n",
       "CCU → BLR                 724\n",
       "BOM → HYD                 621\n",
       "                         ... \n",
       "CCU → IXZ → MAA → BLR       1\n",
       "BOM → JAI → DEL → HYD       1\n",
       "BOM → BBI → HYD             1\n",
       "CCU → RPR → HYD → BLR       1\n",
       "BLR → BOM → IXC → DEL       1\n",
       "Name: count, Length: 128, dtype: int64"
      ]
     },
     "execution_count": 3036,
     "metadata": {},
     "output_type": "execute_result"
    }
   ],
   "source": [
    "dataset['Route'].value_counts()"
   ]
  },
  {
   "cell_type": "markdown",
   "metadata": {},
   "source": [
    "Procediamo quindi a suddividere le varie tappe della rotta in più variabili."
   ]
  },
  {
   "cell_type": "code",
   "execution_count": 3037,
   "metadata": {},
   "outputs": [],
   "source": [
    "dataset['Route1'] = dataset['Route'].str.split('→').str[0]\n",
    "dataset['Route2'] = dataset['Route'].str.split('→').str[1]\n",
    "dataset['Route3'] = dataset['Route'].str.split('→').str[2]\n",
    "dataset['Route4'] = dataset['Route'].str.split('→').str[3]\n",
    "dataset['Route5'] = dataset['Route'].str.split('→').str[4]\n",
    "\n",
    "dataset = dataset.drop(columns=[\"Route\"])"
   ]
  },
  {
   "cell_type": "code",
   "execution_count": 3038,
   "metadata": {},
   "outputs": [
    {
     "data": {
      "text/html": [
       "<div>\n",
       "<style scoped>\n",
       "    .dataframe tbody tr th:only-of-type {\n",
       "        vertical-align: middle;\n",
       "    }\n",
       "\n",
       "    .dataframe tbody tr th {\n",
       "        vertical-align: top;\n",
       "    }\n",
       "\n",
       "    .dataframe thead th {\n",
       "        text-align: right;\n",
       "    }\n",
       "</style>\n",
       "<table border=\"1\" class=\"dataframe\">\n",
       "  <thead>\n",
       "    <tr style=\"text-align: right;\">\n",
       "      <th></th>\n",
       "      <th>Airline</th>\n",
       "      <th>Source</th>\n",
       "      <th>Destination</th>\n",
       "      <th>Total_Stops</th>\n",
       "      <th>Price</th>\n",
       "      <th>Day</th>\n",
       "      <th>Month</th>\n",
       "      <th>Day_of_Week</th>\n",
       "      <th>Dep_hour</th>\n",
       "      <th>Dep_min</th>\n",
       "      <th>Arrival_hour</th>\n",
       "      <th>Arrival_min</th>\n",
       "      <th>Duration_minute</th>\n",
       "      <th>Route1</th>\n",
       "      <th>Route2</th>\n",
       "      <th>Route3</th>\n",
       "      <th>Route4</th>\n",
       "      <th>Route5</th>\n",
       "    </tr>\n",
       "  </thead>\n",
       "  <tbody>\n",
       "    <tr>\n",
       "      <th>0</th>\n",
       "      <td>IndiGo</td>\n",
       "      <td>Banglore</td>\n",
       "      <td>New Delhi</td>\n",
       "      <td>0</td>\n",
       "      <td>42.87</td>\n",
       "      <td>24</td>\n",
       "      <td>Mar</td>\n",
       "      <td>Sun</td>\n",
       "      <td>22</td>\n",
       "      <td>20</td>\n",
       "      <td>1</td>\n",
       "      <td>10</td>\n",
       "      <td>50</td>\n",
       "      <td>BLR</td>\n",
       "      <td>DEL</td>\n",
       "      <td>NaN</td>\n",
       "      <td>NaN</td>\n",
       "      <td>NaN</td>\n",
       "    </tr>\n",
       "  </tbody>\n",
       "</table>\n",
       "</div>"
      ],
      "text/plain": [
       "  Airline    Source Destination  Total_Stops  Price  Day Month Day_of_Week  \\\n",
       "0  IndiGo  Banglore   New Delhi            0  42.87   24   Mar         Sun   \n",
       "\n",
       "   Dep_hour  Dep_min  Arrival_hour  Arrival_min  Duration_minute Route1  \\\n",
       "0        22       20             1           10               50   BLR    \n",
       "\n",
       "  Route2 Route3 Route4 Route5  \n",
       "0    DEL    NaN    NaN    NaN  "
      ]
     },
     "execution_count": 3038,
     "metadata": {},
     "output_type": "execute_result"
    }
   ],
   "source": [
    "dataset.head(1)"
   ]
  },
  {
   "cell_type": "code",
   "execution_count": 3039,
   "metadata": {},
   "outputs": [
    {
     "data": {
      "text/plain": [
       "Airline                0\n",
       "Source                 0\n",
       "Destination            0\n",
       "Total_Stops            0\n",
       "Price                  0\n",
       "Day                    0\n",
       "Month                  0\n",
       "Day_of_Week            0\n",
       "Dep_hour               0\n",
       "Dep_min                0\n",
       "Arrival_hour           0\n",
       "Arrival_min            0\n",
       "Duration_minute        0\n",
       "Route1                 0\n",
       "Route2                 0\n",
       "Route3              3491\n",
       "Route4              9116\n",
       "Route5             10636\n",
       "dtype: int64"
      ]
     },
     "execution_count": 3039,
     "metadata": {},
     "output_type": "execute_result"
    }
   ],
   "source": [
    "dataset.isnull().sum()"
   ]
  },
  {
   "cell_type": "code",
   "execution_count": 3040,
   "metadata": {},
   "outputs": [
    {
     "data": {
      "text/plain": [
       "Airline            0\n",
       "Source             0\n",
       "Destination        0\n",
       "Total_Stops        0\n",
       "Price              0\n",
       "Day                0\n",
       "Month              0\n",
       "Day_of_Week        0\n",
       "Dep_hour           0\n",
       "Dep_min            0\n",
       "Arrival_hour       0\n",
       "Arrival_min        0\n",
       "Duration_minute    0\n",
       "Route1             0\n",
       "Route2             0\n",
       "Route3             0\n",
       "Route4             0\n",
       "Route5             0\n",
       "dtype: int64"
      ]
     },
     "execution_count": 3040,
     "metadata": {},
     "output_type": "execute_result"
    }
   ],
   "source": [
    "for i in ['Route3', 'Route4', 'Route5'] :\n",
    "   dataset[i] =  dataset[i].fillna('None')\n",
    "\n",
    "dataset.isnull().sum()"
   ]
  },
  {
   "cell_type": "markdown",
   "metadata": {},
   "source": [
    "Prima di procedere con la regressione è necessario convertire le features categoriche in valori numerici mediante binarizzazione."
   ]
  },
  {
   "cell_type": "code",
   "execution_count": 3041,
   "metadata": {},
   "outputs": [],
   "source": [
    "categorical = [\"Route1\", \"Route2\", \"Route3\", \"Route4\", \"Route5\", \"Source\", \"Destination\", \"Day_of_Week\", \"Airline\", \"Month\"]"
   ]
  },
  {
   "cell_type": "code",
   "execution_count": 3042,
   "metadata": {},
   "outputs": [
    {
     "data": {
      "text/html": [
       "<div>\n",
       "<style scoped>\n",
       "    .dataframe tbody tr th:only-of-type {\n",
       "        vertical-align: middle;\n",
       "    }\n",
       "\n",
       "    .dataframe tbody tr th {\n",
       "        vertical-align: top;\n",
       "    }\n",
       "\n",
       "    .dataframe thead th {\n",
       "        text-align: right;\n",
       "    }\n",
       "</style>\n",
       "<table border=\"1\" class=\"dataframe\">\n",
       "  <thead>\n",
       "    <tr style=\"text-align: right;\">\n",
       "      <th></th>\n",
       "      <th>Total_Stops</th>\n",
       "      <th>Price</th>\n",
       "      <th>Day</th>\n",
       "      <th>Dep_hour</th>\n",
       "      <th>Dep_min</th>\n",
       "      <th>Arrival_hour</th>\n",
       "      <th>Arrival_min</th>\n",
       "      <th>Duration_minute</th>\n",
       "      <th>Route1_BLR</th>\n",
       "      <th>Route1_BOM</th>\n",
       "      <th>...</th>\n",
       "      <th>Airline_Multiple carriers</th>\n",
       "      <th>Airline_Multiple carriers Premium economy</th>\n",
       "      <th>Airline_SpiceJet</th>\n",
       "      <th>Airline_Trujet</th>\n",
       "      <th>Airline_Vistara</th>\n",
       "      <th>Airline_Vistara Premium economy</th>\n",
       "      <th>Month_Apr</th>\n",
       "      <th>Month_June</th>\n",
       "      <th>Month_Mar</th>\n",
       "      <th>Month_May</th>\n",
       "    </tr>\n",
       "  </thead>\n",
       "  <tbody>\n",
       "    <tr>\n",
       "      <th>0</th>\n",
       "      <td>0</td>\n",
       "      <td>42.87</td>\n",
       "      <td>24</td>\n",
       "      <td>22</td>\n",
       "      <td>20</td>\n",
       "      <td>1</td>\n",
       "      <td>10</td>\n",
       "      <td>50</td>\n",
       "      <td>True</td>\n",
       "      <td>False</td>\n",
       "      <td>...</td>\n",
       "      <td>False</td>\n",
       "      <td>False</td>\n",
       "      <td>False</td>\n",
       "      <td>False</td>\n",
       "      <td>False</td>\n",
       "      <td>False</td>\n",
       "      <td>False</td>\n",
       "      <td>False</td>\n",
       "      <td>True</td>\n",
       "      <td>False</td>\n",
       "    </tr>\n",
       "  </tbody>\n",
       "</table>\n",
       "<p>1 rows × 142 columns</p>\n",
       "</div>"
      ],
      "text/plain": [
       "   Total_Stops  Price  Day  Dep_hour  Dep_min  Arrival_hour  Arrival_min  \\\n",
       "0            0  42.87   24        22       20             1           10   \n",
       "\n",
       "   Duration_minute  Route1_BLR   Route1_BOM   ...  Airline_Multiple carriers  \\\n",
       "0               50         True        False  ...                      False   \n",
       "\n",
       "   Airline_Multiple carriers Premium economy  Airline_SpiceJet  \\\n",
       "0                                      False             False   \n",
       "\n",
       "   Airline_Trujet  Airline_Vistara  Airline_Vistara Premium economy  \\\n",
       "0           False            False                            False   \n",
       "\n",
       "   Month_Apr  Month_June  Month_Mar  Month_May  \n",
       "0      False       False       True      False  \n",
       "\n",
       "[1 rows x 142 columns]"
      ]
     },
     "execution_count": 3042,
     "metadata": {},
     "output_type": "execute_result"
    }
   ],
   "source": [
    "dataset = pd.get_dummies(dataset, columns=categorical, prefix= categorical)\n",
    "dataset.head(1)"
   ]
  },
  {
   "cell_type": "markdown",
   "metadata": {},
   "source": [
    "Dall'analisi precedente della variabile Price, abbiamo osservato che essa presenta una distribuzione asimmetrica tendente verso sinistra. Questo tipo di distribuzione potrebbe influenzare le prestazioni del modello di regressione. Per mitigare questo effetto, applichiamo una trasformazione utilizzando la radice quadrata alla variabile Price. Tale trasformazione è stata eseguita nel seguente modo:"
   ]
  },
  {
   "cell_type": "code",
   "execution_count": 3043,
   "metadata": {},
   "outputs": [
    {
     "data": {
      "text/plain": [
       "<matplotlib.lines.Line2D at 0x183146da210>"
      ]
     },
     "execution_count": 3043,
     "metadata": {},
     "output_type": "execute_result"
    },
    {
     "data": {
      "image/png": "[encoded data removed]",
      "text/plain": [
       "<Figure size 2400x800 with 2 Axes>"
      ]
     },
     "metadata": {},
     "output_type": "display_data"
    }
   ],
   "source": [
    "before = dataset[\"Price\"]\n",
    "dataset[\"Price\"] = np.sqrt(dataset[\"Price\"])\n",
    "     \n",
    "\n",
    "figure, (ax1, ax2) = plt.subplots(nrows=1, ncols=2)\n",
    "figure.set_size_inches(24, 8)\n",
    "\n",
    "sns.histplot(before, ax=ax1)\n",
    "ax1.axvline(before.mean(), color='magenta', linestyle='dashed')\n",
    "ax1.axvline(before.median(), color='cyan', linestyle='dashed')\n",
    "sns.histplot(dataset[\"Price\"], ax=ax2)\n",
    "ax2.axvline(dataset[\"Price\"].mean(), color='magenta', linestyle='dashed')\n",
    "ax2.axvline(dataset[\"Price\"].median(), color='cyan', linestyle='dashed')"
   ]
  },
  {
   "cell_type": "markdown",
   "metadata": {},
   "source": [
    "Questa trasformazione mira a rendere la distribuzione della variabile Price più simmetrica, migliorando così le prestazioni del modello di regressione."
   ]
  },
  {
   "cell_type": "code",
   "execution_count": 3044,
   "metadata": {},
   "outputs": [],
   "source": [
    "from sklearn.model_selection import train_test_split\n",
    "\n",
    "X = dataset.drop('Price', axis=1)\n",
    "y = dataset['Price']"
   ]
  },
  {
   "cell_type": "code",
   "execution_count": 3045,
   "metadata": {},
   "outputs": [
    {
     "name": "stdout",
     "output_type": "stream",
     "text": [
      "Training Set: 7121 rows\n",
      "Test Set: 3561 rows\n"
     ]
    }
   ],
   "source": [
    "\n",
    "X_train, X_val, y_train, y_val = train_test_split(X, y, test_size=1/3, random_state=42)\n",
    "print(f'Training Set: {X_train.shape[0]} rows\\nTest Set: {X_val.shape[0]} rows')\n"
   ]
  },
  {
   "cell_type": "markdown",
   "metadata": {},
   "source": [
    "## Addestramento"
   ]
  },
  {
   "cell_type": "code",
   "execution_count": 3046,
   "metadata": {},
   "outputs": [],
   "source": [
    "from sklearn.model_selection import GridSearchCV\n",
    "from sklearn.preprocessing import PolynomialFeatures, StandardScaler\n",
    "from sklearn.linear_model import LinearRegression, Ridge, Lasso\n",
    "from sklearn.kernel_ridge import KernelRidge\n",
    "from sklearn.pipeline import Pipeline"
   ]
  },
  {
   "cell_type": "code",
   "execution_count": 3047,
   "metadata": {},
   "outputs": [],
   "source": [
    "import warnings\n",
    "warnings.filterwarnings(\"ignore\")"
   ]
  },
  {
   "cell_type": "code",
   "execution_count": 3048,
   "metadata": {},
   "outputs": [],
   "source": [
    "from sklearn.metrics import mean_squared_error, mean_absolute_percentage_error, r2_score"
   ]
  },
  {
   "cell_type": "code",
   "execution_count": 3049,
   "metadata": {},
   "outputs": [],
   "source": [
    "results = [] #ci servirà per raccogliere i risultati dei modelli per poi confrontarli in seguito"
   ]
  },
  {
   "cell_type": "markdown",
   "metadata": {},
   "source": [
    "### Regressione Lasso"
   ]
  },
  {
   "cell_type": "markdown",
   "metadata": {},
   "source": [
    "\n",
    "Procediamo con l'implementazione di una pipeline per la regressione Lasso al fine di valutare l'importanza delle feature nel modello. Utilizzeremo la grid search per esplorare diverse combinazioni di iperparametri attraverso una validazione in 5-cross fold validation. Questo ci consentirà di determinare quali feature possono essere considerate meno rilevanti per il modello, ottimizzando così le prestazioni di predizione."
   ]
  },
  {
   "cell_type": "code",
   "execution_count": 3050,
   "metadata": {},
   "outputs": [
    {
     "data": {
      "text/html": [
       "<div>\n",
       "<style scoped>\n",
       "    .dataframe tbody tr th:only-of-type {\n",
       "        vertical-align: middle;\n",
       "    }\n",
       "\n",
       "    .dataframe tbody tr th {\n",
       "        vertical-align: top;\n",
       "    }\n",
       "\n",
       "    .dataframe thead th {\n",
       "        text-align: right;\n",
       "    }\n",
       "</style>\n",
       "<table border=\"1\" class=\"dataframe\">\n",
       "  <thead>\n",
       "    <tr style=\"text-align: right;\">\n",
       "      <th></th>\n",
       "      <th>mean_test_score</th>\n",
       "      <th>mean_train_score</th>\n",
       "      <th>params</th>\n",
       "    </tr>\n",
       "  </thead>\n",
       "  <tbody>\n",
       "    <tr>\n",
       "      <th>0</th>\n",
       "      <td>0.698656</td>\n",
       "      <td>0.702891</td>\n",
       "      <td>{'linreg__alpha': 0.1}</td>\n",
       "    </tr>\n",
       "    <tr>\n",
       "      <th>1</th>\n",
       "      <td>0.304301</td>\n",
       "      <td>0.304707</td>\n",
       "      <td>{'linreg__alpha': 1}</td>\n",
       "    </tr>\n",
       "    <tr>\n",
       "      <th>2</th>\n",
       "      <td>-0.001181</td>\n",
       "      <td>0.000000</td>\n",
       "      <td>{'linreg__alpha': 3}</td>\n",
       "    </tr>\n",
       "    <tr>\n",
       "      <th>3</th>\n",
       "      <td>-0.001181</td>\n",
       "      <td>0.000000</td>\n",
       "      <td>{'linreg__alpha': 5}</td>\n",
       "    </tr>\n",
       "  </tbody>\n",
       "</table>\n",
       "</div>"
      ],
      "text/plain": [
       "   mean_test_score  mean_train_score                  params\n",
       "0         0.698656          0.702891  {'linreg__alpha': 0.1}\n",
       "1         0.304301          0.304707    {'linreg__alpha': 1}\n",
       "2        -0.001181          0.000000    {'linreg__alpha': 3}\n",
       "3        -0.001181          0.000000    {'linreg__alpha': 5}"
      ]
     },
     "execution_count": 3050,
     "metadata": {},
     "output_type": "execute_result"
    }
   ],
   "source": [
    "\n",
    "model = Pipeline([\n",
    "    (\"preprc\", StandardScaler()),\n",
    "    (\"linreg\", Lasso())\n",
    "])\n",
    "grid = {\n",
    "    \"linreg__alpha\": [0.1, 1, 3, 5]\n",
    "}\n",
    "gs = GridSearchCV(model, param_grid=grid, cv=5, return_train_score=True, error_score='raise')\n",
    "gs.fit(X_train, y_train)\n",
    "sel = [\"mean_test_score\", \"mean_train_score\", \"params\"]\n",
    "pd.DataFrame(gs.cv_results_).sort_values(\"mean_test_score\", ascending=False)[sel]"
   ]
  },
  {
   "cell_type": "markdown",
   "metadata": {},
   "source": [
    "Sulla base di questi risultati, sembra che alpha = 0.1 produca il mean_test_score più alto tra i valori testati. Quindi, il parametro da scegliere per la regressione Lasso dovrebbe essere alpha = 0.1. "
   ]
  },
  {
   "cell_type": "code",
   "execution_count": 3051,
   "metadata": {},
   "outputs": [],
   "source": [
    "model = Pipeline([\n",
    "    (\"preproc\", StandardScaler()),\n",
    "    (\"regr\", Lasso(alpha=0.1))\n",
    "])\n",
    "model.fit(X_train, y_train)\n",
    "lasso_regression_score = model.score(X_val, y_val)\n",
    "results.append({\"Model\": \"Lasso Regression\", \"Best Score\": lasso_regression_score})"
   ]
  },
  {
   "cell_type": "code",
   "execution_count": 3052,
   "metadata": {},
   "outputs": [
    {
     "name": "stdout",
     "output_type": "stream",
     "text": [
      "Features totali: 141\n",
      "Features estratte: 24\n"
     ]
    },
    {
     "data": {
      "text/plain": [
       "Total_Stops                     0.925074\n",
       "Airline_Jet Airways             0.479429\n",
       "Route2_ BOM                     0.311151\n",
       "Airline_Jet Airways Business    0.260777\n",
       "Month_Mar                       0.256175\n",
       "Route2_ DEL                     0.097661\n",
       "Day_of_Week_Fri                 0.091438\n",
       "Airline_Multiple carriers       0.088755\n",
       "Destination_New Delhi           0.053659\n",
       "Route2_ IXU                     0.020367\n",
       "Route2_ JDH                     0.016867\n",
       "Route3_ DEL                     0.001420\n",
       "Route3_ HYD                    -0.004519\n",
       "Route2_ MAA                    -0.010500\n",
       "Day_of_Week_Thu                -0.025366\n",
       "Airline_GoAir                  -0.038612\n",
       "Route2_ HYD                    -0.057931\n",
       "Airline_Air Asia               -0.070333\n",
       "Month_Apr                      -0.110533\n",
       "Route3_None                    -0.189225\n",
       "Day                            -0.192407\n",
       "Airline_SpiceJet               -0.229215\n",
       "Route2_ HYD                    -0.250674\n",
       "Airline_IndiGo                 -0.252914\n",
       "dtype: float64"
      ]
     },
     "execution_count": 3052,
     "metadata": {},
     "output_type": "execute_result"
    }
   ],
   "source": [
    "lasso = pd.Series(model.named_steps[\"regr\"].coef_, X_train.columns).sort_values(ascending=False)\n",
    "c = len(lasso[lasso!=0])\n",
    "print(\"Features totali: \"+ str(len(X_train.columns)))\n",
    "print(\"Features estratte: \"+ str(c))\n",
    "lasso[lasso!=0]\n",
    "     "
   ]
  },
  {
   "cell_type": "markdown",
   "metadata": {},
   "source": [
    "IL codice seguente seleziona le feature dal modello Lasso che hanno un coefficiente diverso da zero. Il modello Lasso, essendo un metodo di regressione lineare con regolarizzazione L1, tende a penalizzare i coefficienti delle feature meno rilevanti, portando alcuni di essi a zero."
   ]
  },
  {
   "cell_type": "code",
   "execution_count": 3053,
   "metadata": {},
   "outputs": [],
   "source": [
    "\n",
    "keep = lasso[lasso!=0].index.tolist()\n",
    "l = dataset[keep+[\"Price\"]]"
   ]
  },
  {
   "cell_type": "code",
   "execution_count": 3054,
   "metadata": {},
   "outputs": [
    {
     "data": {
      "text/html": [
       "<div>\n",
       "<style scoped>\n",
       "    .dataframe tbody tr th:only-of-type {\n",
       "        vertical-align: middle;\n",
       "    }\n",
       "\n",
       "    .dataframe tbody tr th {\n",
       "        vertical-align: top;\n",
       "    }\n",
       "\n",
       "    .dataframe thead th {\n",
       "        text-align: right;\n",
       "    }\n",
       "</style>\n",
       "<table border=\"1\" class=\"dataframe\">\n",
       "  <thead>\n",
       "    <tr style=\"text-align: right;\">\n",
       "      <th></th>\n",
       "      <th>Total_Stops</th>\n",
       "      <th>Airline_Jet Airways</th>\n",
       "      <th>Route2_ BOM</th>\n",
       "      <th>Airline_Jet Airways Business</th>\n",
       "      <th>Month_Mar</th>\n",
       "      <th>Route2_ DEL</th>\n",
       "      <th>Day_of_Week_Fri</th>\n",
       "      <th>Airline_Multiple carriers</th>\n",
       "      <th>Destination_New Delhi</th>\n",
       "      <th>Route2_ IXU</th>\n",
       "      <th>...</th>\n",
       "      <th>Airline_GoAir</th>\n",
       "      <th>Route2_ HYD</th>\n",
       "      <th>Airline_Air Asia</th>\n",
       "      <th>Month_Apr</th>\n",
       "      <th>Route3_None</th>\n",
       "      <th>Day</th>\n",
       "      <th>Airline_SpiceJet</th>\n",
       "      <th>Route2_ HYD</th>\n",
       "      <th>Airline_IndiGo</th>\n",
       "      <th>Price</th>\n",
       "    </tr>\n",
       "  </thead>\n",
       "  <tbody>\n",
       "    <tr>\n",
       "      <th>0</th>\n",
       "      <td>0</td>\n",
       "      <td>False</td>\n",
       "      <td>False</td>\n",
       "      <td>False</td>\n",
       "      <td>True</td>\n",
       "      <td>False</td>\n",
       "      <td>False</td>\n",
       "      <td>False</td>\n",
       "      <td>True</td>\n",
       "      <td>False</td>\n",
       "      <td>...</td>\n",
       "      <td>False</td>\n",
       "      <td>False</td>\n",
       "      <td>False</td>\n",
       "      <td>False</td>\n",
       "      <td>True</td>\n",
       "      <td>24</td>\n",
       "      <td>False</td>\n",
       "      <td>False</td>\n",
       "      <td>True</td>\n",
       "      <td>6.547519</td>\n",
       "    </tr>\n",
       "    <tr>\n",
       "      <th>1</th>\n",
       "      <td>2</td>\n",
       "      <td>False</td>\n",
       "      <td>False</td>\n",
       "      <td>False</td>\n",
       "      <td>False</td>\n",
       "      <td>False</td>\n",
       "      <td>False</td>\n",
       "      <td>False</td>\n",
       "      <td>False</td>\n",
       "      <td>False</td>\n",
       "      <td>...</td>\n",
       "      <td>False</td>\n",
       "      <td>False</td>\n",
       "      <td>False</td>\n",
       "      <td>False</td>\n",
       "      <td>False</td>\n",
       "      <td>1</td>\n",
       "      <td>False</td>\n",
       "      <td>False</td>\n",
       "      <td>False</td>\n",
       "      <td>9.180414</td>\n",
       "    </tr>\n",
       "    <tr>\n",
       "      <th>2</th>\n",
       "      <td>2</td>\n",
       "      <td>True</td>\n",
       "      <td>False</td>\n",
       "      <td>False</td>\n",
       "      <td>False</td>\n",
       "      <td>False</td>\n",
       "      <td>False</td>\n",
       "      <td>False</td>\n",
       "      <td>False</td>\n",
       "      <td>False</td>\n",
       "      <td>...</td>\n",
       "      <td>False</td>\n",
       "      <td>False</td>\n",
       "      <td>False</td>\n",
       "      <td>False</td>\n",
       "      <td>False</td>\n",
       "      <td>9</td>\n",
       "      <td>False</td>\n",
       "      <td>False</td>\n",
       "      <td>False</td>\n",
       "      <td>12.357184</td>\n",
       "    </tr>\n",
       "    <tr>\n",
       "      <th>3</th>\n",
       "      <td>1</td>\n",
       "      <td>False</td>\n",
       "      <td>False</td>\n",
       "      <td>False</td>\n",
       "      <td>False</td>\n",
       "      <td>False</td>\n",
       "      <td>False</td>\n",
       "      <td>False</td>\n",
       "      <td>False</td>\n",
       "      <td>False</td>\n",
       "      <td>...</td>\n",
       "      <td>False</td>\n",
       "      <td>False</td>\n",
       "      <td>False</td>\n",
       "      <td>False</td>\n",
       "      <td>False</td>\n",
       "      <td>12</td>\n",
       "      <td>False</td>\n",
       "      <td>False</td>\n",
       "      <td>True</td>\n",
       "      <td>8.270429</td>\n",
       "    </tr>\n",
       "    <tr>\n",
       "      <th>4</th>\n",
       "      <td>1</td>\n",
       "      <td>False</td>\n",
       "      <td>False</td>\n",
       "      <td>False</td>\n",
       "      <td>True</td>\n",
       "      <td>False</td>\n",
       "      <td>True</td>\n",
       "      <td>False</td>\n",
       "      <td>True</td>\n",
       "      <td>False</td>\n",
       "      <td>...</td>\n",
       "      <td>False</td>\n",
       "      <td>False</td>\n",
       "      <td>False</td>\n",
       "      <td>False</td>\n",
       "      <td>False</td>\n",
       "      <td>1</td>\n",
       "      <td>False</td>\n",
       "      <td>False</td>\n",
       "      <td>True</td>\n",
       "      <td>12.096280</td>\n",
       "    </tr>\n",
       "  </tbody>\n",
       "</table>\n",
       "<p>5 rows × 25 columns</p>\n",
       "</div>"
      ],
      "text/plain": [
       "   Total_Stops  Airline_Jet Airways  Route2_ BOM   \\\n",
       "0            0                False         False   \n",
       "1            2                False         False   \n",
       "2            2                 True         False   \n",
       "3            1                False         False   \n",
       "4            1                False         False   \n",
       "\n",
       "   Airline_Jet Airways Business  Month_Mar  Route2_ DEL   Day_of_Week_Fri  \\\n",
       "0                         False       True         False            False   \n",
       "1                         False      False         False            False   \n",
       "2                         False      False         False            False   \n",
       "3                         False      False         False            False   \n",
       "4                         False       True         False             True   \n",
       "\n",
       "   Airline_Multiple carriers  Destination_New Delhi  Route2_ IXU   ...  \\\n",
       "0                      False                   True         False  ...   \n",
       "1                      False                  False         False  ...   \n",
       "2                      False                  False         False  ...   \n",
       "3                      False                  False         False  ...   \n",
       "4                      False                   True         False  ...   \n",
       "\n",
       "   Airline_GoAir  Route2_ HYD   Airline_Air Asia  Month_Apr  Route3_None  Day  \\\n",
       "0          False         False             False      False         True   24   \n",
       "1          False         False             False      False        False    1   \n",
       "2          False         False             False      False        False    9   \n",
       "3          False         False             False      False        False   12   \n",
       "4          False         False             False      False        False    1   \n",
       "\n",
       "   Airline_SpiceJet  Route2_ HYD  Airline_IndiGo      Price  \n",
       "0             False        False            True   6.547519  \n",
       "1             False        False           False   9.180414  \n",
       "2             False        False           False  12.357184  \n",
       "3             False        False            True   8.270429  \n",
       "4             False        False            True  12.096280  \n",
       "\n",
       "[5 rows x 25 columns]"
      ]
     },
     "execution_count": 3054,
     "metadata": {},
     "output_type": "execute_result"
    }
   ],
   "source": [
    "l.head()"
   ]
  },
  {
   "cell_type": "code",
   "execution_count": 3055,
   "metadata": {},
   "outputs": [],
   "source": [
    "X = l.drop(columns=\"Price\") #aggiorno il valore di X con le features rimanenti \n",
    "X_train, X_val, y_train, y_val = train_test_split(X, y, test_size=1/3, random_state=42)"
   ]
  },
  {
   "cell_type": "markdown",
   "metadata": {},
   "source": [
    "### Regressione Ridge"
   ]
  },
  {
   "cell_type": "code",
   "execution_count": 3056,
   "metadata": {},
   "outputs": [
    {
     "data": {
      "text/html": [
       "<div>\n",
       "<style scoped>\n",
       "    .dataframe tbody tr th:only-of-type {\n",
       "        vertical-align: middle;\n",
       "    }\n",
       "\n",
       "    .dataframe tbody tr th {\n",
       "        vertical-align: top;\n",
       "    }\n",
       "\n",
       "    .dataframe thead th {\n",
       "        text-align: right;\n",
       "    }\n",
       "</style>\n",
       "<table border=\"1\" class=\"dataframe\">\n",
       "  <thead>\n",
       "    <tr style=\"text-align: right;\">\n",
       "      <th></th>\n",
       "      <th>mean_test_score</th>\n",
       "      <th>mean_train_score</th>\n",
       "      <th>params</th>\n",
       "    </tr>\n",
       "  </thead>\n",
       "  <tbody>\n",
       "    <tr>\n",
       "      <th>3</th>\n",
       "      <td>0.729076</td>\n",
       "      <td>0.732628</td>\n",
       "      <td>{'linreg__alpha': 10}</td>\n",
       "    </tr>\n",
       "    <tr>\n",
       "      <th>2</th>\n",
       "      <td>0.729076</td>\n",
       "      <td>0.732630</td>\n",
       "      <td>{'linreg__alpha': 5}</td>\n",
       "    </tr>\n",
       "    <tr>\n",
       "      <th>1</th>\n",
       "      <td>0.729074</td>\n",
       "      <td>0.732631</td>\n",
       "      <td>{'linreg__alpha': 1}</td>\n",
       "    </tr>\n",
       "    <tr>\n",
       "      <th>0</th>\n",
       "      <td>0.729074</td>\n",
       "      <td>0.732631</td>\n",
       "      <td>{'linreg__alpha': 0.1}</td>\n",
       "    </tr>\n",
       "  </tbody>\n",
       "</table>\n",
       "</div>"
      ],
      "text/plain": [
       "   mean_test_score  mean_train_score                  params\n",
       "3         0.729076          0.732628   {'linreg__alpha': 10}\n",
       "2         0.729076          0.732630    {'linreg__alpha': 5}\n",
       "1         0.729074          0.732631    {'linreg__alpha': 1}\n",
       "0         0.729074          0.732631  {'linreg__alpha': 0.1}"
      ]
     },
     "execution_count": 3056,
     "metadata": {},
     "output_type": "execute_result"
    }
   ],
   "source": [
    "\n",
    "model = Pipeline([\n",
    "    (\"scale\",  StandardScaler()),\n",
    "    (\"linreg\", Ridge())\n",
    "])\n",
    "grid = {\n",
    "    \"linreg__alpha\": [0.1, 1, 5, 10]\n",
    "    }\n",
    "gs = GridSearchCV(model, param_grid=grid, return_train_score=True, cv=5)\n",
    "gs.fit(X_train, y_train)\n",
    "sel = [\"mean_test_score\", \"mean_train_score\", \"params\"]\n",
    "results.append({\"Model\": \"Ridge Regression\", \"Best Score\": gs.best_score_})\n",
    "pd.DataFrame(gs.cv_results_).sort_values(\"mean_test_score\", ascending=False)[sel]\n",
    "\n"
   ]
  },
  {
   "cell_type": "markdown",
   "metadata": {},
   "source": [
    "### Regressione Lineare"
   ]
  },
  {
   "cell_type": "markdown",
   "metadata": {},
   "source": [
    "Addestriamo quindi un modello di regressione lineare sul nostro train set e valutiamone l'accuratezza."
   ]
  },
  {
   "cell_type": "code",
   "execution_count": 3057,
   "metadata": {},
   "outputs": [
    {
     "name": "stdout",
     "output_type": "stream",
     "text": [
      "0.7438468056454659\n"
     ]
    }
   ],
   "source": [
    "model = Pipeline([\n",
    "    (\"scale\",  StandardScaler(with_mean=False)),\n",
    "    (\"linreg\", LinearRegression())\n",
    "])\n",
    "model.fit(X_train, y_train)\n",
    "linear_regression_score = model.score(X_val, y_val)\n",
    "results.append({\"Model\": \"Linear Regression\", \"Best Score\": linear_regression_score})\n",
    "  \n",
    "print(linear_regression_score)"
   ]
  },
  {
   "cell_type": "markdown",
   "metadata": {},
   "source": [
    "L'accuratezza ottenuta è essenzialmente la stessa nella Regressione Ridge ciò indica che la regolarizzazione ha un impatto trascurabile sui risultati, confermando le nostre aspettative."
   ]
  },
  {
   "cell_type": "markdown",
   "metadata": {},
   "source": [
    "### Elastic Net"
   ]
  },
  {
   "cell_type": "code",
   "execution_count": 3058,
   "metadata": {},
   "outputs": [
    {
     "name": "stdout",
     "output_type": "stream",
     "text": [
      "Fitting 5 folds for each of 25 candidates, totalling 125 fits\n",
      "Miglior score R²: 0.7258\n",
      "Parametri migliori: {'elasticnet__alpha': 0.1, 'elasticnet__l1_ratio': 0.1}\n"
     ]
    }
   ],
   "source": [
    "\n",
    "from sklearn.linear_model import ElasticNet\n",
    "\n",
    "model_elasticnet = ElasticNet()\n",
    " \n",
    "pipeline_elasticnet = Pipeline([\n",
    "    ('scaler', StandardScaler()),  # Standardizzazione dei dati\n",
    "    ('elasticnet', model_elasticnet)  # Modello ElasticNet\n",
    "])\n",
    "\n",
    "param_grid_elasticnet = {\n",
    "    'elasticnet__alpha': [0.1, 0.5, 1, 3, 5],  # Parametro di regolarizzazione\n",
    "    'elasticnet__l1_ratio': [0.1, 0.3, 0.5, 0.7, 0.9]  # Rapporto L1 / (L1 + L2)\n",
    "}\n",
    "\n",
    "grid_search_elasticnet = GridSearchCV(estimator=pipeline_elasticnet, param_grid=param_grid_elasticnet,  cv=5,  scoring='r2', verbose=1, n_jobs=-1) \n",
    "\n",
    "grid_search_elasticnet.fit(X_train, y_train)\n",
    "\n",
    "# Valutazione dei risultati migliori\n",
    "best_score = grid_search_elasticnet.best_score_\n",
    "best_params = grid_search_elasticnet.best_params_\n",
    "\n",
    "results.append({\"Model\": \"ElasticNet\", \"Best Score\": best_score})\n",
    "print(f\"Miglior score R²: {best_score:.4f}\")\n",
    "print(f\"Parametri migliori: {best_params}\")\n"
   ]
  },
  {
   "cell_type": "markdown",
   "metadata": {},
   "source": [
    "### Random Forest "
   ]
  },
  {
   "cell_type": "code",
   "execution_count": 3059,
   "metadata": {},
   "outputs": [
    {
     "data": {
      "text/html": [
       "<div>\n",
       "<style scoped>\n",
       "    .dataframe tbody tr th:only-of-type {\n",
       "        vertical-align: middle;\n",
       "    }\n",
       "\n",
       "    .dataframe tbody tr th {\n",
       "        vertical-align: top;\n",
       "    }\n",
       "\n",
       "    .dataframe thead th {\n",
       "        text-align: right;\n",
       "    }\n",
       "</style>\n",
       "<table border=\"1\" class=\"dataframe\">\n",
       "  <thead>\n",
       "    <tr style=\"text-align: right;\">\n",
       "      <th></th>\n",
       "      <th>mean_test_score</th>\n",
       "      <th>mean_train_score</th>\n",
       "      <th>params</th>\n",
       "    </tr>\n",
       "  </thead>\n",
       "  <tbody>\n",
       "    <tr>\n",
       "      <th>5</th>\n",
       "      <td>0.819818</td>\n",
       "      <td>0.855125</td>\n",
       "      <td>{'max_features': 'sqrt', 'max_samples': 0.3, '...</td>\n",
       "    </tr>\n",
       "    <tr>\n",
       "      <th>2</th>\n",
       "      <td>0.815942</td>\n",
       "      <td>0.845740</td>\n",
       "      <td>{'max_features': 'sqrt', 'max_samples': 0.2, '...</td>\n",
       "    </tr>\n",
       "    <tr>\n",
       "      <th>4</th>\n",
       "      <td>0.813085</td>\n",
       "      <td>0.850541</td>\n",
       "      <td>{'max_features': 'sqrt', 'max_samples': 0.3, '...</td>\n",
       "    </tr>\n",
       "  </tbody>\n",
       "</table>\n",
       "</div>"
      ],
      "text/plain": [
       "   mean_test_score  mean_train_score  \\\n",
       "5         0.819818          0.855125   \n",
       "2         0.815942          0.845740   \n",
       "4         0.813085          0.850541   \n",
       "\n",
       "                                              params  \n",
       "5  {'max_features': 'sqrt', 'max_samples': 0.3, '...  \n",
       "2  {'max_features': 'sqrt', 'max_samples': 0.2, '...  \n",
       "4  {'max_features': 'sqrt', 'max_samples': 0.3, '...  "
      ]
     },
     "execution_count": 3059,
     "metadata": {},
     "output_type": "execute_result"
    }
   ],
   "source": [
    "from sklearn.ensemble import RandomForestRegressor\n",
    "\n",
    "model = RandomForestRegressor(random_state=42)\n",
    "grid = {\n",
    "    \"max_samples\": [0.2,0.3],\n",
    "    \"n_estimators\": [10,20,100],\n",
    "    \"max_features\": [\"sqrt\"]\n",
    "}\n",
    "\n",
    "gs = GridSearchCV(model, param_grid=grid, cv=5, return_train_score=True, n_jobs=-1)\n",
    "\n",
    "gs.fit(X_train, y_train)\n",
    "results.append({\"Model\": \"Random Forest\", \"Best Score\": gs.best_score_})\n",
    "pd.DataFrame(gs.cv_results_).sort_values(\"mean_test_score\", ascending=False).iloc[:3][sel]\n"
   ]
  },
  {
   "cell_type": "code",
   "execution_count": 3060,
   "metadata": {},
   "outputs": [
    {
     "name": "stdout",
     "output_type": "stream",
     "text": [
      "R-Squared::0.8198178576368609\n",
      "Best Hyperparameters::\n",
      "{'max_features': 'sqrt', 'max_samples': 0.3, 'n_estimators': 100}\n"
     ]
    }
   ],
   "source": [
    "print(\"R-Squared::{}\".format(gs.best_score_))\n",
    "print(\"Best Hyperparameters::\\n{}\".format(gs.best_params_))"
   ]
  },
  {
   "cell_type": "markdown",
   "metadata": {},
   "source": [
    "### XGBoost"
   ]
  },
  {
   "cell_type": "code",
   "execution_count": 3061,
   "metadata": {},
   "outputs": [
    {
     "name": "stdout",
     "output_type": "stream",
     "text": [
      "0.8492404440867006\n"
     ]
    }
   ],
   "source": [
    "from xgboost import XGBRegressor\n",
    "\n",
    "xgbm = XGBRegressor(objective='reg:squarederror', reg_alpha=0.0, reg_lambda=1.0, n_estimators=100)\n",
    "xgbm.fit(X_train, y_train)\n",
    "xgbm_score = xgbm.score(X_val, y_val)\n",
    "\n",
    "results.append({\"Model\": \"XGBoost\", \"Best Score\": xgbm_score})\n",
    "print(xgbm_score)"
   ]
  },
  {
   "cell_type": "markdown",
   "metadata": {},
   "source": [
    "### Funzioni kernel"
   ]
  },
  {
   "cell_type": "code",
   "execution_count": 3063,
   "metadata": {},
   "outputs": [
    {
     "data": {
      "text/html": [
       "<div>\n",
       "<style scoped>\n",
       "    .dataframe tbody tr th:only-of-type {\n",
       "        vertical-align: middle;\n",
       "    }\n",
       "\n",
       "    .dataframe tbody tr th {\n",
       "        vertical-align: top;\n",
       "    }\n",
       "\n",
       "    .dataframe thead th {\n",
       "        text-align: right;\n",
       "    }\n",
       "</style>\n",
       "<table border=\"1\" class=\"dataframe\">\n",
       "  <thead>\n",
       "    <tr style=\"text-align: right;\">\n",
       "      <th></th>\n",
       "      <th>mean_test_score</th>\n",
       "      <th>mean_train_score</th>\n",
       "      <th>params</th>\n",
       "    </tr>\n",
       "  </thead>\n",
       "  <tbody>\n",
       "    <tr>\n",
       "      <th>0</th>\n",
       "      <td>0.810040</td>\n",
       "      <td>0.823665</td>\n",
       "      <td>{'regr__alpha': 0.01, 'regr__degree': 2}</td>\n",
       "    </tr>\n",
       "    <tr>\n",
       "      <th>1</th>\n",
       "      <td>0.810030</td>\n",
       "      <td>0.823289</td>\n",
       "      <td>{'regr__alpha': 0.1, 'regr__degree': 2}</td>\n",
       "    </tr>\n",
       "    <tr>\n",
       "      <th>2</th>\n",
       "      <td>0.808854</td>\n",
       "      <td>0.820724</td>\n",
       "      <td>{'regr__alpha': 1, 'regr__degree': 2}</td>\n",
       "    </tr>\n",
       "    <tr>\n",
       "      <th>3</th>\n",
       "      <td>0.800682</td>\n",
       "      <td>0.809235</td>\n",
       "      <td>{'regr__alpha': 10, 'regr__degree': 2}</td>\n",
       "    </tr>\n",
       "  </tbody>\n",
       "</table>\n",
       "</div>"
      ],
      "text/plain": [
       "   mean_test_score  mean_train_score                                    params\n",
       "0         0.810040          0.823665  {'regr__alpha': 0.01, 'regr__degree': 2}\n",
       "1         0.810030          0.823289   {'regr__alpha': 0.1, 'regr__degree': 2}\n",
       "2         0.808854          0.820724     {'regr__alpha': 1, 'regr__degree': 2}\n",
       "3         0.800682          0.809235    {'regr__alpha': 10, 'regr__degree': 2}"
      ]
     },
     "execution_count": 3063,
     "metadata": {},
     "output_type": "execute_result"
    }
   ],
   "source": [
    "\n",
    "model = Pipeline([\n",
    "    (\"scale\", StandardScaler()),\n",
    "    (\"regr\", KernelRidge(kernel=\"poly\"))\n",
    "])\n",
    "grid = {\n",
    "    \"regr__degree\": range(2,3),\n",
    "    \"regr__alpha\": [0.01, 0.1, 1, 10],\n",
    "}\n",
    "gs = GridSearchCV(model, grid, cv=5, return_train_score=True)\n",
    "gs.fit(X_train, y_train)\n",
    "results.append({\"Model\": \"Kernel Ridge\", \"Best Score\": gs.best_score_})\n",
    "pd.DataFrame(gs.cv_results_).sort_values(\"mean_test_score\", ascending=False)[sel]\n",
    "\n"
   ]
  },
  {
   "cell_type": "markdown",
   "metadata": {},
   "source": [
    "## Valutazione dei modelli migliori"
   ]
  },
  {
   "cell_type": "markdown",
   "metadata": {},
   "source": [
    "Confrontaimo ora i risulatti ottenuti per ogni modello per poter trovare quello che ha prodotto un risultato migliore"
   ]
  },
  {
   "cell_type": "code",
   "execution_count": 3064,
   "metadata": {},
   "outputs": [
    {
     "data": {
      "image/png": "[encoded data removed]",
      "text/plain": [
       "<Figure size 1200x600 with 1 Axes>"
      ]
     },
     "metadata": {},
     "output_type": "display_data"
    }
   ],
   "source": [
    "results_df = pd.DataFrame(results)\n",
    "\n",
    "plt.figure(figsize=(12, 6))\n",
    "sns.barplot(x=\"Model\", y=\"Best Score\", data=results_df)\n",
    "plt.title(\"Confronto delle Prestazioni dei Modelli di Regressione\")\n",
    "plt.xlabel(\"Modello\")\n",
    "plt.ylabel(\"Miglior Score R²\")\n",
    "plt.xticks(rotation=45)\n",
    "plt.show()"
   ]
  },
  {
   "cell_type": "markdown",
   "metadata": {},
   "source": [
    "Come possiamo notare dal grafico i modelli di regressione XGBoost , Kernel Ridge e random forest hanno prodotto i risultati migliori"
   ]
  },
  {
   "cell_type": "markdown",
   "metadata": {},
   "source": [
    "Vediamo ora come si comportano i precedenti modelli su dati mai visti"
   ]
  },
  {
   "cell_type": "code",
   "execution_count": 3065,
   "metadata": {},
   "outputs": [],
   "source": [
    "def print_eval(X, y, model):\n",
    "    preds = model.predict(X)\n",
    "    mse = mean_squared_error(y, preds)\n",
    "    re = mean_absolute_percentage_error(y, preds)\n",
    "    r2 = r2_score(y, preds)\n",
    "    \n",
    "    print(f\"   Mean squared error: {mse:.3f}\")\n",
    "    print(f\"       Relative error: {re:.5f}%\")\n",
    "    print(f\"R-squared coefficient: {r2:.5f}\")"
   ]
  },
  {
   "cell_type": "code",
   "execution_count": 3066,
   "metadata": {},
   "outputs": [
    {
     "data": {
      "text/html": [
       "<style>#sk-container-id-23 {\n",
       "  /* Definition of color scheme common for light and dark mode */\n",
       "  --sklearn-color-text: black;\n",
       "  --sklearn-color-line: gray;\n",
       "  /* Definition of color scheme for unfitted estimators */\n",
       "  --sklearn-color-unfitted-level-0: #fff5e6;\n",
       "  --sklearn-color-unfitted-level-1: #f6e4d2;\n",
       "  --sklearn-color-unfitted-level-2: #ffe0b3;\n",
       "  --sklearn-color-unfitted-level-3: chocolate;\n",
       "  /* Definition of color scheme for fitted estimators */\n",
       "  --sklearn-color-fitted-level-0: #f0f8ff;\n",
       "  --sklearn-color-fitted-level-1: #d4ebff;\n",
       "  --sklearn-color-fitted-level-2: #b3dbfd;\n",
       "  --sklearn-color-fitted-level-3: cornflowerblue;\n",
       "\n",
       "  /* Specific color for light theme */\n",
       "  --sklearn-color-text-on-default-background: var(--sg-text-color, var(--theme-code-foreground, var(--jp-content-font-color1, black)));\n",
       "  --sklearn-color-background: var(--sg-background-color, var(--theme-background, var(--jp-layout-color0, white)));\n",
       "  --sklearn-color-border-box: var(--sg-text-color, var(--theme-code-foreground, var(--jp-content-font-color1, black)));\n",
       "  --sklearn-color-icon: #696969;\n",
       "\n",
       "  @media (prefers-color-scheme: dark) {\n",
       "    /* Redefinition of color scheme for dark theme */\n",
       "    --sklearn-color-text-on-default-background: var(--sg-text-color, var(--theme-code-foreground, var(--jp-content-font-color1, white)));\n",
       "    --sklearn-color-background: var(--sg-background-color, var(--theme-background, var(--jp-layout-color0, #111)));\n",
       "    --sklearn-color-border-box: var(--sg-text-color, var(--theme-code-foreground, var(--jp-content-font-color1, white)));\n",
       "    --sklearn-color-icon: #878787;\n",
       "  }\n",
       "}\n",
       "\n",
       "#sk-container-id-23 {\n",
       "  color: var(--sklearn-color-text);\n",
       "}\n",
       "\n",
       "#sk-container-id-23 pre {\n",
       "  padding: 0;\n",
       "}\n",
       "\n",
       "#sk-container-id-23 input.sk-hidden--visually {\n",
       "  border: 0;\n",
       "  clip: rect(1px 1px 1px 1px);\n",
       "  clip: rect(1px, 1px, 1px, 1px);\n",
       "  height: 1px;\n",
       "  margin: -1px;\n",
       "  overflow: hidden;\n",
       "  padding: 0;\n",
       "  position: absolute;\n",
       "  width: 1px;\n",
       "}\n",
       "\n",
       "#sk-container-id-23 div.sk-dashed-wrapped {\n",
       "  border: 1px dashed var(--sklearn-color-line);\n",
       "  margin: 0 0.4em 0.5em 0.4em;\n",
       "  box-sizing: border-box;\n",
       "  padding-bottom: 0.4em;\n",
       "  background-color: var(--sklearn-color-background);\n",
       "}\n",
       "\n",
       "#sk-container-id-23 div.sk-container {\n",
       "  /* jupyter's `normalize.less` sets `[hidden] { display: none; }`\n",
       "     but bootstrap.min.css set `[hidden] { display: none !important; }`\n",
       "     so we also need the `!important` here to be able to override the\n",
       "     default hidden behavior on the sphinx rendered scikit-learn.org.\n",
       "     See: https://github.com/scikit-learn/scikit-learn/issues/21755 */\n",
       "  display: inline-block !important;\n",
       "  position: relative;\n",
       "}\n",
       "\n",
       "#sk-container-id-23 div.sk-text-repr-fallback {\n",
       "  display: none;\n",
       "}\n",
       "\n",
       "div.sk-parallel-item,\n",
       "div.sk-serial,\n",
       "div.sk-item {\n",
       "  /* draw centered vertical line to link estimators */\n",
       "  background-image: linear-gradient(var(--sklearn-color-text-on-default-background), var(--sklearn-color-text-on-default-background));\n",
       "  background-size: 2px 100%;\n",
       "  background-repeat: no-repeat;\n",
       "  background-position: center center;\n",
       "}\n",
       "\n",
       "/* Parallel-specific style estimator block */\n",
       "\n",
       "#sk-container-id-23 div.sk-parallel-item::after {\n",
       "  content: \"\";\n",
       "  width: 100%;\n",
       "  border-bottom: 2px solid var(--sklearn-color-text-on-default-background);\n",
       "  flex-grow: 1;\n",
       "}\n",
       "\n",
       "#sk-container-id-23 div.sk-parallel {\n",
       "  display: flex;\n",
       "  align-items: stretch;\n",
       "  justify-content: center;\n",
       "  background-color: var(--sklearn-color-background);\n",
       "  position: relative;\n",
       "}\n",
       "\n",
       "#sk-container-id-23 div.sk-parallel-item {\n",
       "  display: flex;\n",
       "  flex-direction: column;\n",
       "}\n",
       "\n",
       "#sk-container-id-23 div.sk-parallel-item:first-child::after {\n",
       "  align-self: flex-end;\n",
       "  width: 50%;\n",
       "}\n",
       "\n",
       "#sk-container-id-23 div.sk-parallel-item:last-child::after {\n",
       "  align-self: flex-start;\n",
       "  width: 50%;\n",
       "}\n",
       "\n",
       "#sk-container-id-23 div.sk-parallel-item:only-child::after {\n",
       "  width: 0;\n",
       "}\n",
       "\n",
       "/* Serial-specific style estimator block */\n",
       "\n",
       "#sk-container-id-23 div.sk-serial {\n",
       "  display: flex;\n",
       "  flex-direction: column;\n",
       "  align-items: center;\n",
       "  background-color: var(--sklearn-color-background);\n",
       "  padding-right: 1em;\n",
       "  padding-left: 1em;\n",
       "}\n",
       "\n",
       "\n",
       "/* Toggleable style: style used for estimator/Pipeline/ColumnTransformer box that is\n",
       "clickable and can be expanded/collapsed.\n",
       "- Pipeline and ColumnTransformer use this feature and define the default style\n",
       "- Estimators will overwrite some part of the style using the `sk-estimator` class\n",
       "*/\n",
       "\n",
       "/* Pipeline and ColumnTransformer style (default) */\n",
       "\n",
       "#sk-container-id-23 div.sk-toggleable {\n",
       "  /* Default theme specific background. It is overwritten whether we have a\n",
       "  specific estimator or a Pipeline/ColumnTransformer */\n",
       "  background-color: var(--sklearn-color-background);\n",
       "}\n",
       "\n",
       "/* Toggleable label */\n",
       "#sk-container-id-23 label.sk-toggleable__label {\n",
       "  cursor: pointer;\n",
       "  display: block;\n",
       "  width: 100%;\n",
       "  margin-bottom: 0;\n",
       "  padding: 0.5em;\n",
       "  box-sizing: border-box;\n",
       "  text-align: center;\n",
       "}\n",
       "\n",
       "#sk-container-id-23 label.sk-toggleable__label-arrow:before {\n",
       "  /* Arrow on the left of the label */\n",
       "  content: \"▸\";\n",
       "  float: left;\n",
       "  margin-right: 0.25em;\n",
       "  color: var(--sklearn-color-icon);\n",
       "}\n",
       "\n",
       "#sk-container-id-23 label.sk-toggleable__label-arrow:hover:before {\n",
       "  color: var(--sklearn-color-text);\n",
       "}\n",
       "\n",
       "/* Toggleable content - dropdown */\n",
       "\n",
       "#sk-container-id-23 div.sk-toggleable__content {\n",
       "  max-height: 0;\n",
       "  max-width: 0;\n",
       "  overflow: hidden;\n",
       "  text-align: left;\n",
       "  /* unfitted */\n",
       "  background-color: var(--sklearn-color-unfitted-level-0);\n",
       "}\n",
       "\n",
       "#sk-container-id-23 div.sk-toggleable__content.fitted {\n",
       "  /* fitted */\n",
       "  background-color: var(--sklearn-color-fitted-level-0);\n",
       "}\n",
       "\n",
       "#sk-container-id-23 div.sk-toggleable__content pre {\n",
       "  margin: 0.2em;\n",
       "  border-radius: 0.25em;\n",
       "  color: var(--sklearn-color-text);\n",
       "  /* unfitted */\n",
       "  background-color: var(--sklearn-color-unfitted-level-0);\n",
       "}\n",
       "\n",
       "#sk-container-id-23 div.sk-toggleable__content.fitted pre {\n",
       "  /* unfitted */\n",
       "  background-color: var(--sklearn-color-fitted-level-0);\n",
       "}\n",
       "\n",
       "#sk-container-id-23 input.sk-toggleable__control:checked~div.sk-toggleable__content {\n",
       "  /* Expand drop-down */\n",
       "  max-height: 200px;\n",
       "  max-width: 100%;\n",
       "  overflow: auto;\n",
       "}\n",
       "\n",
       "#sk-container-id-23 input.sk-toggleable__control:checked~label.sk-toggleable__label-arrow:before {\n",
       "  content: \"▾\";\n",
       "}\n",
       "\n",
       "/* Pipeline/ColumnTransformer-specific style */\n",
       "\n",
       "#sk-container-id-23 div.sk-label input.sk-toggleable__control:checked~label.sk-toggleable__label {\n",
       "  color: var(--sklearn-color-text);\n",
       "  background-color: var(--sklearn-color-unfitted-level-2);\n",
       "}\n",
       "\n",
       "#sk-container-id-23 div.sk-label.fitted input.sk-toggleable__control:checked~label.sk-toggleable__label {\n",
       "  background-color: var(--sklearn-color-fitted-level-2);\n",
       "}\n",
       "\n",
       "/* Estimator-specific style */\n",
       "\n",
       "/* Colorize estimator box */\n",
       "#sk-container-id-23 div.sk-estimator input.sk-toggleable__control:checked~label.sk-toggleable__label {\n",
       "  /* unfitted */\n",
       "  background-color: var(--sklearn-color-unfitted-level-2);\n",
       "}\n",
       "\n",
       "#sk-container-id-23 div.sk-estimator.fitted input.sk-toggleable__control:checked~label.sk-toggleable__label {\n",
       "  /* fitted */\n",
       "  background-color: var(--sklearn-color-fitted-level-2);\n",
       "}\n",
       "\n",
       "#sk-container-id-23 div.sk-label label.sk-toggleable__label,\n",
       "#sk-container-id-23 div.sk-label label {\n",
       "  /* The background is the default theme color */\n",
       "  color: var(--sklearn-color-text-on-default-background);\n",
       "}\n",
       "\n",
       "/* On hover, darken the color of the background */\n",
       "#sk-container-id-23 div.sk-label:hover label.sk-toggleable__label {\n",
       "  color: var(--sklearn-color-text);\n",
       "  background-color: var(--sklearn-color-unfitted-level-2);\n",
       "}\n",
       "\n",
       "/* Label box, darken color on hover, fitted */\n",
       "#sk-container-id-23 div.sk-label.fitted:hover label.sk-toggleable__label.fitted {\n",
       "  color: var(--sklearn-color-text);\n",
       "  background-color: var(--sklearn-color-fitted-level-2);\n",
       "}\n",
       "\n",
       "/* Estimator label */\n",
       "\n",
       "#sk-container-id-23 div.sk-label label {\n",
       "  font-family: monospace;\n",
       "  font-weight: bold;\n",
       "  display: inline-block;\n",
       "  line-height: 1.2em;\n",
       "}\n",
       "\n",
       "#sk-container-id-23 div.sk-label-container {\n",
       "  text-align: center;\n",
       "}\n",
       "\n",
       "/* Estimator-specific */\n",
       "#sk-container-id-23 div.sk-estimator {\n",
       "  font-family: monospace;\n",
       "  border: 1px dotted var(--sklearn-color-border-box);\n",
       "  border-radius: 0.25em;\n",
       "  box-sizing: border-box;\n",
       "  margin-bottom: 0.5em;\n",
       "  /* unfitted */\n",
       "  background-color: var(--sklearn-color-unfitted-level-0);\n",
       "}\n",
       "\n",
       "#sk-container-id-23 div.sk-estimator.fitted {\n",
       "  /* fitted */\n",
       "  background-color: var(--sklearn-color-fitted-level-0);\n",
       "}\n",
       "\n",
       "/* on hover */\n",
       "#sk-container-id-23 div.sk-estimator:hover {\n",
       "  /* unfitted */\n",
       "  background-color: var(--sklearn-color-unfitted-level-2);\n",
       "}\n",
       "\n",
       "#sk-container-id-23 div.sk-estimator.fitted:hover {\n",
       "  /* fitted */\n",
       "  background-color: var(--sklearn-color-fitted-level-2);\n",
       "}\n",
       "\n",
       "/* Specification for estimator info (e.g. \"i\" and \"?\") */\n",
       "\n",
       "/* Common style for \"i\" and \"?\" */\n",
       "\n",
       ".sk-estimator-doc-link,\n",
       "a:link.sk-estimator-doc-link,\n",
       "a:visited.sk-estimator-doc-link {\n",
       "  float: right;\n",
       "  font-size: smaller;\n",
       "  line-height: 1em;\n",
       "  font-family: monospace;\n",
       "  background-color: var(--sklearn-color-background);\n",
       "  border-radius: 1em;\n",
       "  height: 1em;\n",
       "  width: 1em;\n",
       "  text-decoration: none !important;\n",
       "  margin-left: 1ex;\n",
       "  /* unfitted */\n",
       "  border: var(--sklearn-color-unfitted-level-1) 1pt solid;\n",
       "  color: var(--sklearn-color-unfitted-level-1);\n",
       "}\n",
       "\n",
       ".sk-estimator-doc-link.fitted,\n",
       "a:link.sk-estimator-doc-link.fitted,\n",
       "a:visited.sk-estimator-doc-link.fitted {\n",
       "  /* fitted */\n",
       "  border: var(--sklearn-color-fitted-level-1) 1pt solid;\n",
       "  color: var(--sklearn-color-fitted-level-1);\n",
       "}\n",
       "\n",
       "/* On hover */\n",
       "div.sk-estimator:hover .sk-estimator-doc-link:hover,\n",
       ".sk-estimator-doc-link:hover,\n",
       "div.sk-label-container:hover .sk-estimator-doc-link:hover,\n",
       ".sk-estimator-doc-link:hover {\n",
       "  /* unfitted */\n",
       "  background-color: var(--sklearn-color-unfitted-level-3);\n",
       "  color: var(--sklearn-color-background);\n",
       "  text-decoration: none;\n",
       "}\n",
       "\n",
       "div.sk-estimator.fitted:hover .sk-estimator-doc-link.fitted:hover,\n",
       ".sk-estimator-doc-link.fitted:hover,\n",
       "div.sk-label-container:hover .sk-estimator-doc-link.fitted:hover,\n",
       ".sk-estimator-doc-link.fitted:hover {\n",
       "  /* fitted */\n",
       "  background-color: var(--sklearn-color-fitted-level-3);\n",
       "  color: var(--sklearn-color-background);\n",
       "  text-decoration: none;\n",
       "}\n",
       "\n",
       "/* Span, style for the box shown on hovering the info icon */\n",
       ".sk-estimator-doc-link span {\n",
       "  display: none;\n",
       "  z-index: 9999;\n",
       "  position: relative;\n",
       "  font-weight: normal;\n",
       "  right: .2ex;\n",
       "  padding: .5ex;\n",
       "  margin: .5ex;\n",
       "  width: min-content;\n",
       "  min-width: 20ex;\n",
       "  max-width: 50ex;\n",
       "  color: var(--sklearn-color-text);\n",
       "  box-shadow: 2pt 2pt 4pt #999;\n",
       "  /* unfitted */\n",
       "  background: var(--sklearn-color-unfitted-level-0);\n",
       "  border: .5pt solid var(--sklearn-color-unfitted-level-3);\n",
       "}\n",
       "\n",
       ".sk-estimator-doc-link.fitted span {\n",
       "  /* fitted */\n",
       "  background: var(--sklearn-color-fitted-level-0);\n",
       "  border: var(--sklearn-color-fitted-level-3);\n",
       "}\n",
       "\n",
       ".sk-estimator-doc-link:hover span {\n",
       "  display: block;\n",
       "}\n",
       "\n",
       "/* \"?\"-specific style due to the `<a>` HTML tag */\n",
       "\n",
       "#sk-container-id-23 a.estimator_doc_link {\n",
       "  float: right;\n",
       "  font-size: 1rem;\n",
       "  line-height: 1em;\n",
       "  font-family: monospace;\n",
       "  background-color: var(--sklearn-color-background);\n",
       "  border-radius: 1rem;\n",
       "  height: 1rem;\n",
       "  width: 1rem;\n",
       "  text-decoration: none;\n",
       "  /* unfitted */\n",
       "  color: var(--sklearn-color-unfitted-level-1);\n",
       "  border: var(--sklearn-color-unfitted-level-1) 1pt solid;\n",
       "}\n",
       "\n",
       "#sk-container-id-23 a.estimator_doc_link.fitted {\n",
       "  /* fitted */\n",
       "  border: var(--sklearn-color-fitted-level-1) 1pt solid;\n",
       "  color: var(--sklearn-color-fitted-level-1);\n",
       "}\n",
       "\n",
       "/* On hover */\n",
       "#sk-container-id-23 a.estimator_doc_link:hover {\n",
       "  /* unfitted */\n",
       "  background-color: var(--sklearn-color-unfitted-level-3);\n",
       "  color: var(--sklearn-color-background);\n",
       "  text-decoration: none;\n",
       "}\n",
       "\n",
       "#sk-container-id-23 a.estimator_doc_link.fitted:hover {\n",
       "  /* fitted */\n",
       "  background-color: var(--sklearn-color-fitted-level-3);\n",
       "}\n",
       "</style><div id=\"sk-container-id-23\" class=\"sk-top-container\"><div class=\"sk-text-repr-fallback\"><pre>Pipeline(steps=[(&#x27;scale&#x27;, StandardScaler()),\n",
       "                (&#x27;regr&#x27;, KernelRidge(alpha=0.1, degree=2, kernel=&#x27;poly&#x27;))])</pre><b>In a Jupyter environment, please rerun this cell to show the HTML representation or trust the notebook. <br />On GitHub, the HTML representation is unable to render, please try loading this page with nbviewer.org.</b></div><div class=\"sk-container\" hidden><div class=\"sk-item sk-dashed-wrapped\"><div class=\"sk-label-container\"><div class=\"sk-label fitted sk-toggleable\"><input class=\"sk-toggleable__control sk-hidden--visually\" id=\"sk-estimator-id-67\" type=\"checkbox\" ><label for=\"sk-estimator-id-67\" class=\"sk-toggleable__label fitted sk-toggleable__label-arrow fitted\">&nbsp;&nbsp;Pipeline<a class=\"sk-estimator-doc-link fitted\" rel=\"noreferrer\" target=\"_blank\" href=\"https://scikit-learn.org/1.4/modules/generated/sklearn.pipeline.Pipeline.html\">?<span>Documentation for Pipeline</span></a><span class=\"sk-estimator-doc-link fitted\">i<span>Fitted</span></span></label><div class=\"sk-toggleable__content fitted\"><pre>Pipeline(steps=[(&#x27;scale&#x27;, StandardScaler()),\n",
       "                (&#x27;regr&#x27;, KernelRidge(alpha=0.1, degree=2, kernel=&#x27;poly&#x27;))])</pre></div> </div></div><div class=\"sk-serial\"><div class=\"sk-item\"><div class=\"sk-estimator fitted sk-toggleable\"><input class=\"sk-toggleable__control sk-hidden--visually\" id=\"sk-estimator-id-68\" type=\"checkbox\" ><label for=\"sk-estimator-id-68\" class=\"sk-toggleable__label fitted sk-toggleable__label-arrow fitted\">&nbsp;StandardScaler<a class=\"sk-estimator-doc-link fitted\" rel=\"noreferrer\" target=\"_blank\" href=\"https://scikit-learn.org/1.4/modules/generated/sklearn.preprocessing.StandardScaler.html\">?<span>Documentation for StandardScaler</span></a></label><div class=\"sk-toggleable__content fitted\"><pre>StandardScaler()</pre></div> </div></div><div class=\"sk-item\"><div class=\"sk-estimator fitted sk-toggleable\"><input class=\"sk-toggleable__control sk-hidden--visually\" id=\"sk-estimator-id-69\" type=\"checkbox\" ><label for=\"sk-estimator-id-69\" class=\"sk-toggleable__label fitted sk-toggleable__label-arrow fitted\">&nbsp;KernelRidge<a class=\"sk-estimator-doc-link fitted\" rel=\"noreferrer\" target=\"_blank\" href=\"https://scikit-learn.org/1.4/modules/generated/sklearn.kernel_ridge.KernelRidge.html\">?<span>Documentation for KernelRidge</span></a></label><div class=\"sk-toggleable__content fitted\"><pre>KernelRidge(alpha=0.1, degree=2, kernel=&#x27;poly&#x27;)</pre></div> </div></div></div></div></div></div>"
      ],
      "text/plain": [
       "Pipeline(steps=[('scale', StandardScaler()),\n",
       "                ('regr', KernelRidge(alpha=0.1, degree=2, kernel='poly'))])"
      ]
     },
     "execution_count": 3066,
     "metadata": {},
     "output_type": "execute_result"
    }
   ],
   "source": [
    "\n",
    "kernel_model = Pipeline([\n",
    "    (\"scale\", StandardScaler()),\n",
    "    (\"regr\", KernelRidge(degree=2, alpha=0.1, kernel=\"poly\"))\n",
    "])\n",
    "\n",
    "kernel_model.fit(X_train, y_train)"
   ]
  },
  {
   "cell_type": "code",
   "execution_count": 3067,
   "metadata": {},
   "outputs": [
    {
     "data": {
      "text/html": [
       "<style>#sk-container-id-24 {\n",
       "  /* Definition of color scheme common for light and dark mode */\n",
       "  --sklearn-color-text: black;\n",
       "  --sklearn-color-line: gray;\n",
       "  /* Definition of color scheme for unfitted estimators */\n",
       "  --sklearn-color-unfitted-level-0: #fff5e6;\n",
       "  --sklearn-color-unfitted-level-1: #f6e4d2;\n",
       "  --sklearn-color-unfitted-level-2: #ffe0b3;\n",
       "  --sklearn-color-unfitted-level-3: chocolate;\n",
       "  /* Definition of color scheme for fitted estimators */\n",
       "  --sklearn-color-fitted-level-0: #f0f8ff;\n",
       "  --sklearn-color-fitted-level-1: #d4ebff;\n",
       "  --sklearn-color-fitted-level-2: #b3dbfd;\n",
       "  --sklearn-color-fitted-level-3: cornflowerblue;\n",
       "\n",
       "  /* Specific color for light theme */\n",
       "  --sklearn-color-text-on-default-background: var(--sg-text-color, var(--theme-code-foreground, var(--jp-content-font-color1, black)));\n",
       "  --sklearn-color-background: var(--sg-background-color, var(--theme-background, var(--jp-layout-color0, white)));\n",
       "  --sklearn-color-border-box: var(--sg-text-color, var(--theme-code-foreground, var(--jp-content-font-color1, black)));\n",
       "  --sklearn-color-icon: #696969;\n",
       "\n",
       "  @media (prefers-color-scheme: dark) {\n",
       "    /* Redefinition of color scheme for dark theme */\n",
       "    --sklearn-color-text-on-default-background: var(--sg-text-color, var(--theme-code-foreground, var(--jp-content-font-color1, white)));\n",
       "    --sklearn-color-background: var(--sg-background-color, var(--theme-background, var(--jp-layout-color0, #111)));\n",
       "    --sklearn-color-border-box: var(--sg-text-color, var(--theme-code-foreground, var(--jp-content-font-color1, white)));\n",
       "    --sklearn-color-icon: #878787;\n",
       "  }\n",
       "}\n",
       "\n",
       "#sk-container-id-24 {\n",
       "  color: var(--sklearn-color-text);\n",
       "}\n",
       "\n",
       "#sk-container-id-24 pre {\n",
       "  padding: 0;\n",
       "}\n",
       "\n",
       "#sk-container-id-24 input.sk-hidden--visually {\n",
       "  border: 0;\n",
       "  clip: rect(1px 1px 1px 1px);\n",
       "  clip: rect(1px, 1px, 1px, 1px);\n",
       "  height: 1px;\n",
       "  margin: -1px;\n",
       "  overflow: hidden;\n",
       "  padding: 0;\n",
       "  position: absolute;\n",
       "  width: 1px;\n",
       "}\n",
       "\n",
       "#sk-container-id-24 div.sk-dashed-wrapped {\n",
       "  border: 1px dashed var(--sklearn-color-line);\n",
       "  margin: 0 0.4em 0.5em 0.4em;\n",
       "  box-sizing: border-box;\n",
       "  padding-bottom: 0.4em;\n",
       "  background-color: var(--sklearn-color-background);\n",
       "}\n",
       "\n",
       "#sk-container-id-24 div.sk-container {\n",
       "  /* jupyter's `normalize.less` sets `[hidden] { display: none; }`\n",
       "     but bootstrap.min.css set `[hidden] { display: none !important; }`\n",
       "     so we also need the `!important` here to be able to override the\n",
       "     default hidden behavior on the sphinx rendered scikit-learn.org.\n",
       "     See: https://github.com/scikit-learn/scikit-learn/issues/21755 */\n",
       "  display: inline-block !important;\n",
       "  position: relative;\n",
       "}\n",
       "\n",
       "#sk-container-id-24 div.sk-text-repr-fallback {\n",
       "  display: none;\n",
       "}\n",
       "\n",
       "div.sk-parallel-item,\n",
       "div.sk-serial,\n",
       "div.sk-item {\n",
       "  /* draw centered vertical line to link estimators */\n",
       "  background-image: linear-gradient(var(--sklearn-color-text-on-default-background), var(--sklearn-color-text-on-default-background));\n",
       "  background-size: 2px 100%;\n",
       "  background-repeat: no-repeat;\n",
       "  background-position: center center;\n",
       "}\n",
       "\n",
       "/* Parallel-specific style estimator block */\n",
       "\n",
       "#sk-container-id-24 div.sk-parallel-item::after {\n",
       "  content: \"\";\n",
       "  width: 100%;\n",
       "  border-bottom: 2px solid var(--sklearn-color-text-on-default-background);\n",
       "  flex-grow: 1;\n",
       "}\n",
       "\n",
       "#sk-container-id-24 div.sk-parallel {\n",
       "  display: flex;\n",
       "  align-items: stretch;\n",
       "  justify-content: center;\n",
       "  background-color: var(--sklearn-color-background);\n",
       "  position: relative;\n",
       "}\n",
       "\n",
       "#sk-container-id-24 div.sk-parallel-item {\n",
       "  display: flex;\n",
       "  flex-direction: column;\n",
       "}\n",
       "\n",
       "#sk-container-id-24 div.sk-parallel-item:first-child::after {\n",
       "  align-self: flex-end;\n",
       "  width: 50%;\n",
       "}\n",
       "\n",
       "#sk-container-id-24 div.sk-parallel-item:last-child::after {\n",
       "  align-self: flex-start;\n",
       "  width: 50%;\n",
       "}\n",
       "\n",
       "#sk-container-id-24 div.sk-parallel-item:only-child::after {\n",
       "  width: 0;\n",
       "}\n",
       "\n",
       "/* Serial-specific style estimator block */\n",
       "\n",
       "#sk-container-id-24 div.sk-serial {\n",
       "  display: flex;\n",
       "  flex-direction: column;\n",
       "  align-items: center;\n",
       "  background-color: var(--sklearn-color-background);\n",
       "  padding-right: 1em;\n",
       "  padding-left: 1em;\n",
       "}\n",
       "\n",
       "\n",
       "/* Toggleable style: style used for estimator/Pipeline/ColumnTransformer box that is\n",
       "clickable and can be expanded/collapsed.\n",
       "- Pipeline and ColumnTransformer use this feature and define the default style\n",
       "- Estimators will overwrite some part of the style using the `sk-estimator` class\n",
       "*/\n",
       "\n",
       "/* Pipeline and ColumnTransformer style (default) */\n",
       "\n",
       "#sk-container-id-24 div.sk-toggleable {\n",
       "  /* Default theme specific background. It is overwritten whether we have a\n",
       "  specific estimator or a Pipeline/ColumnTransformer */\n",
       "  background-color: var(--sklearn-color-background);\n",
       "}\n",
       "\n",
       "/* Toggleable label */\n",
       "#sk-container-id-24 label.sk-toggleable__label {\n",
       "  cursor: pointer;\n",
       "  display: block;\n",
       "  width: 100%;\n",
       "  margin-bottom: 0;\n",
       "  padding: 0.5em;\n",
       "  box-sizing: border-box;\n",
       "  text-align: center;\n",
       "}\n",
       "\n",
       "#sk-container-id-24 label.sk-toggleable__label-arrow:before {\n",
       "  /* Arrow on the left of the label */\n",
       "  content: \"▸\";\n",
       "  float: left;\n",
       "  margin-right: 0.25em;\n",
       "  color: var(--sklearn-color-icon);\n",
       "}\n",
       "\n",
       "#sk-container-id-24 label.sk-toggleable__label-arrow:hover:before {\n",
       "  color: var(--sklearn-color-text);\n",
       "}\n",
       "\n",
       "/* Toggleable content - dropdown */\n",
       "\n",
       "#sk-container-id-24 div.sk-toggleable__content {\n",
       "  max-height: 0;\n",
       "  max-width: 0;\n",
       "  overflow: hidden;\n",
       "  text-align: left;\n",
       "  /* unfitted */\n",
       "  background-color: var(--sklearn-color-unfitted-level-0);\n",
       "}\n",
       "\n",
       "#sk-container-id-24 div.sk-toggleable__content.fitted {\n",
       "  /* fitted */\n",
       "  background-color: var(--sklearn-color-fitted-level-0);\n",
       "}\n",
       "\n",
       "#sk-container-id-24 div.sk-toggleable__content pre {\n",
       "  margin: 0.2em;\n",
       "  border-radius: 0.25em;\n",
       "  color: var(--sklearn-color-text);\n",
       "  /* unfitted */\n",
       "  background-color: var(--sklearn-color-unfitted-level-0);\n",
       "}\n",
       "\n",
       "#sk-container-id-24 div.sk-toggleable__content.fitted pre {\n",
       "  /* unfitted */\n",
       "  background-color: var(--sklearn-color-fitted-level-0);\n",
       "}\n",
       "\n",
       "#sk-container-id-24 input.sk-toggleable__control:checked~div.sk-toggleable__content {\n",
       "  /* Expand drop-down */\n",
       "  max-height: 200px;\n",
       "  max-width: 100%;\n",
       "  overflow: auto;\n",
       "}\n",
       "\n",
       "#sk-container-id-24 input.sk-toggleable__control:checked~label.sk-toggleable__label-arrow:before {\n",
       "  content: \"▾\";\n",
       "}\n",
       "\n",
       "/* Pipeline/ColumnTransformer-specific style */\n",
       "\n",
       "#sk-container-id-24 div.sk-label input.sk-toggleable__control:checked~label.sk-toggleable__label {\n",
       "  color: var(--sklearn-color-text);\n",
       "  background-color: var(--sklearn-color-unfitted-level-2);\n",
       "}\n",
       "\n",
       "#sk-container-id-24 div.sk-label.fitted input.sk-toggleable__control:checked~label.sk-toggleable__label {\n",
       "  background-color: var(--sklearn-color-fitted-level-2);\n",
       "}\n",
       "\n",
       "/* Estimator-specific style */\n",
       "\n",
       "/* Colorize estimator box */\n",
       "#sk-container-id-24 div.sk-estimator input.sk-toggleable__control:checked~label.sk-toggleable__label {\n",
       "  /* unfitted */\n",
       "  background-color: var(--sklearn-color-unfitted-level-2);\n",
       "}\n",
       "\n",
       "#sk-container-id-24 div.sk-estimator.fitted input.sk-toggleable__control:checked~label.sk-toggleable__label {\n",
       "  /* fitted */\n",
       "  background-color: var(--sklearn-color-fitted-level-2);\n",
       "}\n",
       "\n",
       "#sk-container-id-24 div.sk-label label.sk-toggleable__label,\n",
       "#sk-container-id-24 div.sk-label label {\n",
       "  /* The background is the default theme color */\n",
       "  color: var(--sklearn-color-text-on-default-background);\n",
       "}\n",
       "\n",
       "/* On hover, darken the color of the background */\n",
       "#sk-container-id-24 div.sk-label:hover label.sk-toggleable__label {\n",
       "  color: var(--sklearn-color-text);\n",
       "  background-color: var(--sklearn-color-unfitted-level-2);\n",
       "}\n",
       "\n",
       "/* Label box, darken color on hover, fitted */\n",
       "#sk-container-id-24 div.sk-label.fitted:hover label.sk-toggleable__label.fitted {\n",
       "  color: var(--sklearn-color-text);\n",
       "  background-color: var(--sklearn-color-fitted-level-2);\n",
       "}\n",
       "\n",
       "/* Estimator label */\n",
       "\n",
       "#sk-container-id-24 div.sk-label label {\n",
       "  font-family: monospace;\n",
       "  font-weight: bold;\n",
       "  display: inline-block;\n",
       "  line-height: 1.2em;\n",
       "}\n",
       "\n",
       "#sk-container-id-24 div.sk-label-container {\n",
       "  text-align: center;\n",
       "}\n",
       "\n",
       "/* Estimator-specific */\n",
       "#sk-container-id-24 div.sk-estimator {\n",
       "  font-family: monospace;\n",
       "  border: 1px dotted var(--sklearn-color-border-box);\n",
       "  border-radius: 0.25em;\n",
       "  box-sizing: border-box;\n",
       "  margin-bottom: 0.5em;\n",
       "  /* unfitted */\n",
       "  background-color: var(--sklearn-color-unfitted-level-0);\n",
       "}\n",
       "\n",
       "#sk-container-id-24 div.sk-estimator.fitted {\n",
       "  /* fitted */\n",
       "  background-color: var(--sklearn-color-fitted-level-0);\n",
       "}\n",
       "\n",
       "/* on hover */\n",
       "#sk-container-id-24 div.sk-estimator:hover {\n",
       "  /* unfitted */\n",
       "  background-color: var(--sklearn-color-unfitted-level-2);\n",
       "}\n",
       "\n",
       "#sk-container-id-24 div.sk-estimator.fitted:hover {\n",
       "  /* fitted */\n",
       "  background-color: var(--sklearn-color-fitted-level-2);\n",
       "}\n",
       "\n",
       "/* Specification for estimator info (e.g. \"i\" and \"?\") */\n",
       "\n",
       "/* Common style for \"i\" and \"?\" */\n",
       "\n",
       ".sk-estimator-doc-link,\n",
       "a:link.sk-estimator-doc-link,\n",
       "a:visited.sk-estimator-doc-link {\n",
       "  float: right;\n",
       "  font-size: smaller;\n",
       "  line-height: 1em;\n",
       "  font-family: monospace;\n",
       "  background-color: var(--sklearn-color-background);\n",
       "  border-radius: 1em;\n",
       "  height: 1em;\n",
       "  width: 1em;\n",
       "  text-decoration: none !important;\n",
       "  margin-left: 1ex;\n",
       "  /* unfitted */\n",
       "  border: var(--sklearn-color-unfitted-level-1) 1pt solid;\n",
       "  color: var(--sklearn-color-unfitted-level-1);\n",
       "}\n",
       "\n",
       ".sk-estimator-doc-link.fitted,\n",
       "a:link.sk-estimator-doc-link.fitted,\n",
       "a:visited.sk-estimator-doc-link.fitted {\n",
       "  /* fitted */\n",
       "  border: var(--sklearn-color-fitted-level-1) 1pt solid;\n",
       "  color: var(--sklearn-color-fitted-level-1);\n",
       "}\n",
       "\n",
       "/* On hover */\n",
       "div.sk-estimator:hover .sk-estimator-doc-link:hover,\n",
       ".sk-estimator-doc-link:hover,\n",
       "div.sk-label-container:hover .sk-estimator-doc-link:hover,\n",
       ".sk-estimator-doc-link:hover {\n",
       "  /* unfitted */\n",
       "  background-color: var(--sklearn-color-unfitted-level-3);\n",
       "  color: var(--sklearn-color-background);\n",
       "  text-decoration: none;\n",
       "}\n",
       "\n",
       "div.sk-estimator.fitted:hover .sk-estimator-doc-link.fitted:hover,\n",
       ".sk-estimator-doc-link.fitted:hover,\n",
       "div.sk-label-container:hover .sk-estimator-doc-link.fitted:hover,\n",
       ".sk-estimator-doc-link.fitted:hover {\n",
       "  /* fitted */\n",
       "  background-color: var(--sklearn-color-fitted-level-3);\n",
       "  color: var(--sklearn-color-background);\n",
       "  text-decoration: none;\n",
       "}\n",
       "\n",
       "/* Span, style for the box shown on hovering the info icon */\n",
       ".sk-estimator-doc-link span {\n",
       "  display: none;\n",
       "  z-index: 9999;\n",
       "  position: relative;\n",
       "  font-weight: normal;\n",
       "  right: .2ex;\n",
       "  padding: .5ex;\n",
       "  margin: .5ex;\n",
       "  width: min-content;\n",
       "  min-width: 20ex;\n",
       "  max-width: 50ex;\n",
       "  color: var(--sklearn-color-text);\n",
       "  box-shadow: 2pt 2pt 4pt #999;\n",
       "  /* unfitted */\n",
       "  background: var(--sklearn-color-unfitted-level-0);\n",
       "  border: .5pt solid var(--sklearn-color-unfitted-level-3);\n",
       "}\n",
       "\n",
       ".sk-estimator-doc-link.fitted span {\n",
       "  /* fitted */\n",
       "  background: var(--sklearn-color-fitted-level-0);\n",
       "  border: var(--sklearn-color-fitted-level-3);\n",
       "}\n",
       "\n",
       ".sk-estimator-doc-link:hover span {\n",
       "  display: block;\n",
       "}\n",
       "\n",
       "/* \"?\"-specific style due to the `<a>` HTML tag */\n",
       "\n",
       "#sk-container-id-24 a.estimator_doc_link {\n",
       "  float: right;\n",
       "  font-size: 1rem;\n",
       "  line-height: 1em;\n",
       "  font-family: monospace;\n",
       "  background-color: var(--sklearn-color-background);\n",
       "  border-radius: 1rem;\n",
       "  height: 1rem;\n",
       "  width: 1rem;\n",
       "  text-decoration: none;\n",
       "  /* unfitted */\n",
       "  color: var(--sklearn-color-unfitted-level-1);\n",
       "  border: var(--sklearn-color-unfitted-level-1) 1pt solid;\n",
       "}\n",
       "\n",
       "#sk-container-id-24 a.estimator_doc_link.fitted {\n",
       "  /* fitted */\n",
       "  border: var(--sklearn-color-fitted-level-1) 1pt solid;\n",
       "  color: var(--sklearn-color-fitted-level-1);\n",
       "}\n",
       "\n",
       "/* On hover */\n",
       "#sk-container-id-24 a.estimator_doc_link:hover {\n",
       "  /* unfitted */\n",
       "  background-color: var(--sklearn-color-unfitted-level-3);\n",
       "  color: var(--sklearn-color-background);\n",
       "  text-decoration: none;\n",
       "}\n",
       "\n",
       "#sk-container-id-24 a.estimator_doc_link.fitted:hover {\n",
       "  /* fitted */\n",
       "  background-color: var(--sklearn-color-fitted-level-3);\n",
       "}\n",
       "</style><div id=\"sk-container-id-24\" class=\"sk-top-container\"><div class=\"sk-text-repr-fallback\"><pre>GridSearchCV(cv=5, estimator=RandomForestRegressor(random_state=42), n_jobs=-1,\n",
       "             param_grid={&#x27;max_features&#x27;: [&#x27;sqrt&#x27;], &#x27;max_samples&#x27;: [0.2, 0.3],\n",
       "                         &#x27;n_estimators&#x27;: [10, 20, 100]},\n",
       "             return_train_score=True)</pre><b>In a Jupyter environment, please rerun this cell to show the HTML representation or trust the notebook. <br />On GitHub, the HTML representation is unable to render, please try loading this page with nbviewer.org.</b></div><div class=\"sk-container\" hidden><div class=\"sk-item sk-dashed-wrapped\"><div class=\"sk-label-container\"><div class=\"sk-label fitted sk-toggleable\"><input class=\"sk-toggleable__control sk-hidden--visually\" id=\"sk-estimator-id-70\" type=\"checkbox\" ><label for=\"sk-estimator-id-70\" class=\"sk-toggleable__label fitted sk-toggleable__label-arrow fitted\">&nbsp;&nbsp;GridSearchCV<a class=\"sk-estimator-doc-link fitted\" rel=\"noreferrer\" target=\"_blank\" href=\"https://scikit-learn.org/1.4/modules/generated/sklearn.model_selection.GridSearchCV.html\">?<span>Documentation for GridSearchCV</span></a><span class=\"sk-estimator-doc-link fitted\">i<span>Fitted</span></span></label><div class=\"sk-toggleable__content fitted\"><pre>GridSearchCV(cv=5, estimator=RandomForestRegressor(random_state=42), n_jobs=-1,\n",
       "             param_grid={&#x27;max_features&#x27;: [&#x27;sqrt&#x27;], &#x27;max_samples&#x27;: [0.2, 0.3],\n",
       "                         &#x27;n_estimators&#x27;: [10, 20, 100]},\n",
       "             return_train_score=True)</pre></div> </div></div><div class=\"sk-parallel\"><div class=\"sk-parallel-item\"><div class=\"sk-item\"><div class=\"sk-label-container\"><div class=\"sk-label fitted sk-toggleable\"><input class=\"sk-toggleable__control sk-hidden--visually\" id=\"sk-estimator-id-71\" type=\"checkbox\" ><label for=\"sk-estimator-id-71\" class=\"sk-toggleable__label fitted sk-toggleable__label-arrow fitted\">estimator: RandomForestRegressor</label><div class=\"sk-toggleable__content fitted\"><pre>RandomForestRegressor(random_state=42)</pre></div> </div></div><div class=\"sk-serial\"><div class=\"sk-item\"><div class=\"sk-estimator fitted sk-toggleable\"><input class=\"sk-toggleable__control sk-hidden--visually\" id=\"sk-estimator-id-72\" type=\"checkbox\" ><label for=\"sk-estimator-id-72\" class=\"sk-toggleable__label fitted sk-toggleable__label-arrow fitted\">&nbsp;RandomForestRegressor<a class=\"sk-estimator-doc-link fitted\" rel=\"noreferrer\" target=\"_blank\" href=\"https://scikit-learn.org/1.4/modules/generated/sklearn.ensemble.RandomForestRegressor.html\">?<span>Documentation for RandomForestRegressor</span></a></label><div class=\"sk-toggleable__content fitted\"><pre>RandomForestRegressor(random_state=42)</pre></div> </div></div></div></div></div></div></div></div></div>"
      ],
      "text/plain": [
       "GridSearchCV(cv=5, estimator=RandomForestRegressor(random_state=42), n_jobs=-1,\n",
       "             param_grid={'max_features': ['sqrt'], 'max_samples': [0.2, 0.3],\n",
       "                         'n_estimators': [10, 20, 100]},\n",
       "             return_train_score=True)"
      ]
     },
     "execution_count": 3067,
     "metadata": {},
     "output_type": "execute_result"
    }
   ],
   "source": [
    "\n",
    "random_forest = RandomForestRegressor(random_state=42)\n",
    "grid = {\n",
    "    \"max_samples\": [0.2, 0.3],\n",
    "    \"n_estimators\": [10, 20, 100],\n",
    "    \"max_features\": [\"sqrt\"]\n",
    "}\n",
    "\n",
    "gs = GridSearchCV(random_forest, param_grid=grid, cv=5, return_train_score=True, n_jobs=-1)\n",
    "\n",
    "gs.fit(X_train, y_train)"
   ]
  },
  {
   "cell_type": "code",
   "execution_count": 3068,
   "metadata": {},
   "outputs": [
    {
     "name": "stdout",
     "output_type": "stream",
     "text": [
      "Modello di regressione con kernel polinomiale:\n",
      "   Mean squared error: 0.979\n",
      "       Relative error: 0.08014%\n",
      "R-squared coefficient: 0.83322\n"
     ]
    }
   ],
   "source": [
    "\n",
    "print(\"Modello di regressione con kernel polinomiale:\")\n",
    "print_eval(X_val, y_val, kernel_model)"
   ]
  },
  {
   "cell_type": "code",
   "execution_count": 3069,
   "metadata": {},
   "outputs": [
    {
     "name": "stdout",
     "output_type": "stream",
     "text": [
      "Modello di regressione XGBoost:\n",
      "   Mean squared error: 0.885\n",
      "       Relative error: 0.07345%\n",
      "R-squared coefficient: 0.84924\n"
     ]
    }
   ],
   "source": [
    "print(\"Modello di regressione XGBoost:\")\n",
    "print_eval(X_val, y_val, xgbm)"
   ]
  },
  {
   "cell_type": "code",
   "execution_count": 3070,
   "metadata": {},
   "outputs": [
    {
     "name": "stdout",
     "output_type": "stream",
     "text": [
      "Modello di regressione Random Forest:\n",
      "   Mean squared error: 0.923\n",
      "       Relative error: 0.07514%\n",
      "R-squared coefficient: 0.84274\n"
     ]
    }
   ],
   "source": [
    "print(\"Modello di regressione Random Forest:\")\n",
    "print_eval(X_val, y_val, gs.best_estimator_)"
   ]
  },
  {
   "cell_type": "markdown",
   "metadata": {},
   "source": [
    "## Conclusione"
   ]
  },
  {
   "cell_type": "markdown",
   "metadata": {},
   "source": [
    "Nel corso di questo progetto, sono stati diversi modelli di regressione per prevedere i prezzi dei biglietti aerei nel periodo primaverile. Attraverso l'analisi e l'implementazione di modelli come Random Forest, XGBoost e Kernel polinomiale, abbiamo valutato le loro performance utilizzando metriche chiave come il coefficiente R-squared e l'errore quadratico medio (MSE).\n",
    "\n",
    "Dai risultati ottenuti, emerge chiaramente che XGBoost si è dimostrato il modello più efficace per questa specifica previsione. Ha ottenuto il R-squared coefficient più alto (0.84924), indicando una maggiore capacità di spiegare la variazione dei prezzi dei biglietti rispetto alla media. Inoltre, XGBoost ha registrato il MSE più basso (0.885), confermando la sua precisione nel prevedere i prezzi dei biglietti."
   ]
  }
 ],
 "metadata": {
  "kernelspec": {
   "display_name": "Python 3",
   "language": "python",
   "name": "python3"
  },
  "language_info": {
   "codemirror_mode": {
    "name": "ipython",
    "version": 3
   },
   "file_extension": ".py",
   "mimetype": "text/x-python",
   "name": "python",
   "nbconvert_exporter": "python",
   "pygments_lexer": "ipython3",
   "version": "3.12.2"
  }
 },
 "nbformat": 4,
 "nbformat_minor": 2
}
